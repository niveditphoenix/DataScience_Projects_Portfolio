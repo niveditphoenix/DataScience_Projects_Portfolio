{
 "cells": [
  {
   "cell_type": "markdown",
   "metadata": {},
   "source": [
    "# Deep Learning Project - NLP"
   ]
  },
  {
   "cell_type": "markdown",
   "metadata": {},
   "source": [
    "### Sentiment Analysis & Prediction on Reviews for DaVinci Book taken from Media Blogs"
   ]
  },
  {
   "cell_type": "markdown",
   "metadata": {},
   "source": [
    "This project is based on NLP as text-classification using Deep-Learning framework. \n",
    "\n",
    "Every document (which is a line in the input-file as CSV) is a sentence extracted from various Social Media Blogs. It is a labelled data where **1 means 'Positive Sentiment'** and **0 means 'Negative Sentiment'**.\n",
    "\n",
    "We will use Tensorflow Tokenizer method to index each word and then getting converted into matrix basis TF-IDF approach.\n",
    "\n",
    "Later, we have trained our model using Deep-Neural-Networks Fully-Connected Dense Layers. Final layer would be Sigmoid to classify sentiments into binary existence (0 or 1).\n",
    "\n",
    "Since the documents are only 7086 in this dataset, we have just used TF-IDF approach to convert words into number representation. \n",
    "\n",
    "TF-IDF approach as used here, lacks in building semantic relationship which we have used via Gensim's Word2Vector method in another project here to understand semantics on reviews of IMDB Dataset."
   ]
  },
  {
   "cell_type": "markdown",
   "metadata": {},
   "source": [
    "### Approach\n",
    "\n",
    "1. Getting Libraries and Dependencies\n",
    "2. Defining Functions to Check Accuracy basis Confusion-Matrix at the end\n",
    "3. Data Collection and tweaking it a bit\n",
    "4. Data Processing\n",
    "5. Preparing X and Y to further segregate into Train and Test\n",
    "6. Implementing Tokenizer\n",
    "7. Building/Training the Model\n",
    "8. Predicting Sentiments\n",
    "9. Evaluating Accuracy basis Confusion Matrix\n",
    "10. Conclusion"
   ]
  },
  {
   "cell_type": "markdown",
   "metadata": {},
   "source": [
    "***Let's begin...!***"
   ]
  },
  {
   "cell_type": "markdown",
   "metadata": {},
   "source": [
    "# 1. Getting Libraries and Dependencies"
   ]
  },
  {
   "cell_type": "code",
   "execution_count": 1,
   "metadata": {},
   "outputs": [],
   "source": [
    "import numpy as np\n",
    "import pandas as pd\n",
    "\n",
    "import matplotlib.pyplot as plt\n",
    "%matplotlib inline\n",
    "import seaborn as sns\n",
    "\n",
    "from sklearn.metrics import confusion_matrix"
   ]
  },
  {
   "cell_type": "code",
   "execution_count": 2,
   "metadata": {
    "collapsed": true
   },
   "outputs": [],
   "source": [
    "# Seeding\n",
    "np.random.seed(42)"
   ]
  },
  {
   "cell_type": "code",
   "execution_count": 3,
   "metadata": {
    "collapsed": true
   },
   "outputs": [],
   "source": [
    "# To avoid using Print multiple items\n",
    "from IPython import InteractiveShell\n",
    "InteractiveShell.ast_node_interactivity = 'all'"
   ]
  },
  {
   "cell_type": "markdown",
   "metadata": {},
   "source": [
    "# 2. Functions to Check Accuracy via Confusion-Matrix"
   ]
  },
  {
   "cell_type": "code",
   "execution_count": 4,
   "metadata": {
    "collapsed": true
   },
   "outputs": [],
   "source": [
    "# Function to Plot Confusion Matrix\n",
    "def fun_plot_confusion_matrix(conf):\n",
    "    plt.rcParams['figure.figsize'] = 3,2\n",
    "    cmap = sns.cubehelix_palette(50, hue=0.05, rot=0, light=0.9, dark=0, as_cmap=True)\n",
    "    sns.heatmap(conf,cmap = cmap,xticklabels=['0','1'],yticklabels=['0','1'],annot=True, fmt=\"d\",)\n",
    "    plt.title('Confusion Matrix')\n",
    "    plt.xlabel('Predicted')\n",
    "    plt.ylabel('Actual')\n",
    "    plt.show()"
   ]
  },
  {
   "cell_type": "code",
   "execution_count": 5,
   "metadata": {
    "collapsed": true
   },
   "outputs": [],
   "source": [
    "# Function to Calculate & Print TPR / FPR / Specificity / Precision basis passed Confusion-Matrix\n",
    "def fun_conf_mat_calc(conf):\n",
    "    conf_accuracy_score = ((conf.item(0) + conf.item(3)) / (conf.sum())) * 100\n",
    "    print(\"Overall Accuracy of model is : %.4f\" %conf_accuracy_score)\n",
    "    \n",
    "    TPR = Recall = Sensitivity = (conf.item(3) / (conf.item(2) + conf.item(3))) * 100\n",
    "    print(\"TPRate or Recall or Sensitivity i.e. (TP / Actual YES): %.4f\" %TPR)\n",
    "    \n",
    "    FPR = (conf.item(1) / (conf.item(0) + conf.item(1))) * 100\n",
    "    print(\"FPRate RF_i.e. (FP / Actual NO): %.4f\" %FPR)\n",
    "    \n",
    "    Specificity = conf.item(0) / (conf.item(0) + conf.item(1)) * 100\n",
    "    print('Specificity i.e. (TN / Actual NO): %.4f' %Specificity)\n",
    "    \n",
    "    Precision = conf.item(3) / (conf.item(3) + conf.item(1)) * 100\n",
    "    print('Precision i.e. (TP / Predicted YES): %.4f' %Precision)"
   ]
  },
  {
   "cell_type": "markdown",
   "metadata": {},
   "source": [
    "# 3. Data Collection"
   ]
  },
  {
   "cell_type": "code",
   "execution_count": 6,
   "metadata": {
    "collapsed": true
   },
   "outputs": [],
   "source": [
    "path = 'Z:/Career/DataScientist/Git/DataScience_Projects_Portfolio/Deep Learning Projects Using Tensorflow & KERAS/'\n",
    "inputFile = 'Sentiment_Analysis_MediaBlogs_DaVinci_LabelledData_NLP.csv'\n",
    "df = pd.read_csv(path + inputFile, encoding='Latin1', header=None) # Fetching from actual File"
   ]
  },
  {
   "cell_type": "code",
   "execution_count": 7,
   "metadata": {},
   "outputs": [
    {
     "data": {
      "text/plain": [
       "(7086, 1)"
      ]
     },
     "execution_count": 7,
     "metadata": {},
     "output_type": "execute_result"
    },
    {
     "data": {
      "text/html": [
       "<div>\n",
       "<style>\n",
       "    .dataframe thead tr:only-child th {\n",
       "        text-align: right;\n",
       "    }\n",
       "\n",
       "    .dataframe thead th {\n",
       "        text-align: left;\n",
       "    }\n",
       "\n",
       "    .dataframe tbody tr th {\n",
       "        vertical-align: top;\n",
       "    }\n",
       "</style>\n",
       "<table border=\"1\" class=\"dataframe\">\n",
       "  <thead>\n",
       "    <tr style=\"text-align: right;\">\n",
       "      <th></th>\n",
       "      <th>0</th>\n",
       "    </tr>\n",
       "  </thead>\n",
       "  <tbody>\n",
       "    <tr>\n",
       "      <th>0</th>\n",
       "      <td>1       The Da Vinci Code book is just awesome.</td>\n",
       "    </tr>\n",
       "    <tr>\n",
       "      <th>1</th>\n",
       "      <td>1       this was the first clive cussler i've ...</td>\n",
       "    </tr>\n",
       "    <tr>\n",
       "      <th>2</th>\n",
       "      <td>1       i liked the Da Vinci Code a lot.</td>\n",
       "    </tr>\n",
       "    <tr>\n",
       "      <th>3</th>\n",
       "      <td>1       i liked the Da Vinci Code a lot.</td>\n",
       "    </tr>\n",
       "    <tr>\n",
       "      <th>4</th>\n",
       "      <td>1       I liked the Da Vinci Code but it ultim...</td>\n",
       "    </tr>\n",
       "  </tbody>\n",
       "</table>\n",
       "</div>"
      ],
      "text/plain": [
       "                                                   0\n",
       "0    1       The Da Vinci Code book is just awesome.\n",
       "1  1       this was the first clive cussler i've ...\n",
       "2           1       i liked the Da Vinci Code a lot.\n",
       "3           1       i liked the Da Vinci Code a lot.\n",
       "4  1       I liked the Da Vinci Code but it ultim..."
      ]
     },
     "execution_count": 7,
     "metadata": {},
     "output_type": "execute_result"
    }
   ],
   "source": [
    "df.shape\n",
    "df.head()"
   ]
  },
  {
   "cell_type": "code",
   "execution_count": 8,
   "metadata": {},
   "outputs": [
    {
     "data": {
      "text/html": [
       "<div>\n",
       "<style>\n",
       "    .dataframe thead tr:only-child th {\n",
       "        text-align: right;\n",
       "    }\n",
       "\n",
       "    .dataframe thead th {\n",
       "        text-align: left;\n",
       "    }\n",
       "\n",
       "    .dataframe tbody tr th {\n",
       "        vertical-align: top;\n",
       "    }\n",
       "</style>\n",
       "<table border=\"1\" class=\"dataframe\">\n",
       "  <thead>\n",
       "    <tr style=\"text-align: right;\">\n",
       "      <th></th>\n",
       "      <th>Review</th>\n",
       "    </tr>\n",
       "  </thead>\n",
       "  <tbody>\n",
       "    <tr>\n",
       "      <th>0</th>\n",
       "      <td>1       The Da Vinci Code book is just awesome.</td>\n",
       "    </tr>\n",
       "    <tr>\n",
       "      <th>1</th>\n",
       "      <td>1       this was the first clive cussler i've ...</td>\n",
       "    </tr>\n",
       "    <tr>\n",
       "      <th>2</th>\n",
       "      <td>1       i liked the Da Vinci Code a lot.</td>\n",
       "    </tr>\n",
       "    <tr>\n",
       "      <th>3</th>\n",
       "      <td>1       i liked the Da Vinci Code a lot.</td>\n",
       "    </tr>\n",
       "    <tr>\n",
       "      <th>4</th>\n",
       "      <td>1       I liked the Da Vinci Code but it ultim...</td>\n",
       "    </tr>\n",
       "  </tbody>\n",
       "</table>\n",
       "</div>"
      ],
      "text/plain": [
       "                                              Review\n",
       "0    1       The Da Vinci Code book is just awesome.\n",
       "1  1       this was the first clive cussler i've ...\n",
       "2           1       i liked the Da Vinci Code a lot.\n",
       "3           1       i liked the Da Vinci Code a lot.\n",
       "4  1       I liked the Da Vinci Code but it ultim..."
      ]
     },
     "execution_count": 8,
     "metadata": {},
     "output_type": "execute_result"
    }
   ],
   "source": [
    "df.columns = ['Review']\n",
    "df.head()"
   ]
  },
  {
   "cell_type": "markdown",
   "metadata": {},
   "source": [
    "#### Function to get 1st Character into Sentiment as a number and remaining as the Text for Review\n",
    "1. Loop through each ROWS into this DataSet\n",
    "2. For each ROW, get FIRST Character and put into a list\n",
    "3. Similarly, for this same ROW, get remaining Characters and put into another list"
   ]
  },
  {
   "cell_type": "code",
   "execution_count": 9,
   "metadata": {},
   "outputs": [
    {
     "data": {
      "text/plain": [
       "\"1       this was the first clive cussler i've ever read, but even books like Relic, and Da Vinci code were more plausible than this.\""
      ]
     },
     "execution_count": 9,
     "metadata": {},
     "output_type": "execute_result"
    },
    {
     "data": {
      "text/plain": [
       "'1'"
      ]
     },
     "execution_count": 9,
     "metadata": {},
     "output_type": "execute_result"
    },
    {
     "data": {
      "text/plain": [
       "\"this was the first clive cussler i've ever read, but even books like Relic, and Da Vinci code were more plausible than this.\""
      ]
     },
     "execution_count": 9,
     "metadata": {},
     "output_type": "execute_result"
    }
   ],
   "source": [
    "# Checking our concept\n",
    "df.Review[1]\n",
    "df.Review[1][0]\n",
    "df.Review[1][1:].lstrip()"
   ]
  },
  {
   "cell_type": "code",
   "execution_count": 10,
   "metadata": {
    "collapsed": true
   },
   "outputs": [],
   "source": [
    "Y = []  # List to hold FIRST Character which will be Number as SENTIMENT\n",
    "Z = []  # List to hold remaining Characters as Review\n",
    "for each_row in range(len(df)):\n",
    "    Y.append(int(df.Review[each_row][0]))\n",
    "    Z.append(str(df.Review[each_row][1:]).lstrip())"
   ]
  },
  {
   "cell_type": "code",
   "execution_count": 11,
   "metadata": {},
   "outputs": [
    {
     "data": {
      "text/plain": [
       "(7086,)"
      ]
     },
     "execution_count": 11,
     "metadata": {},
     "output_type": "execute_result"
    },
    {
     "data": {
      "text/plain": [
       "[1, 1, 1, 1, 1, 1, 1, 1, 1, 1]"
      ]
     },
     "execution_count": 11,
     "metadata": {},
     "output_type": "execute_result"
    },
    {
     "data": {
      "text/plain": [
       "(7086,)"
      ]
     },
     "execution_count": 11,
     "metadata": {},
     "output_type": "execute_result"
    },
    {
     "data": {
      "text/plain": [
       "['The Da Vinci Code book is just awesome.',\n",
       " \"this was the first clive cussler i've ever read, but even books like Relic, and Da Vinci code were more plausible than this.\",\n",
       " 'i liked the Da Vinci Code a lot.',\n",
       " 'i liked the Da Vinci Code a lot.',\n",
       " \"I liked the Da Vinci Code but it ultimatly didn't seem to hold it's own.\"]"
      ]
     },
     "execution_count": 11,
     "metadata": {},
     "output_type": "execute_result"
    }
   ],
   "source": [
    "np.shape(Y)\n",
    "Y[:10]\n",
    "np.shape(Z)\n",
    "Z[:5]"
   ]
  },
  {
   "cell_type": "code",
   "execution_count": 12,
   "metadata": {},
   "outputs": [
    {
     "data": {
      "text/html": [
       "<div>\n",
       "<style>\n",
       "    .dataframe thead tr:only-child th {\n",
       "        text-align: right;\n",
       "    }\n",
       "\n",
       "    .dataframe thead th {\n",
       "        text-align: left;\n",
       "    }\n",
       "\n",
       "    .dataframe tbody tr th {\n",
       "        vertical-align: top;\n",
       "    }\n",
       "</style>\n",
       "<table border=\"1\" class=\"dataframe\">\n",
       "  <thead>\n",
       "    <tr style=\"text-align: right;\">\n",
       "      <th></th>\n",
       "      <th>Review</th>\n",
       "      <th>Sentiment</th>\n",
       "    </tr>\n",
       "  </thead>\n",
       "  <tbody>\n",
       "    <tr>\n",
       "      <th>0</th>\n",
       "      <td>The Da Vinci Code book is just awesome.</td>\n",
       "      <td>1</td>\n",
       "    </tr>\n",
       "    <tr>\n",
       "      <th>1</th>\n",
       "      <td>this was the first clive cussler i've ever rea...</td>\n",
       "      <td>1</td>\n",
       "    </tr>\n",
       "    <tr>\n",
       "      <th>2</th>\n",
       "      <td>i liked the Da Vinci Code a lot.</td>\n",
       "      <td>1</td>\n",
       "    </tr>\n",
       "    <tr>\n",
       "      <th>3</th>\n",
       "      <td>i liked the Da Vinci Code a lot.</td>\n",
       "      <td>1</td>\n",
       "    </tr>\n",
       "    <tr>\n",
       "      <th>4</th>\n",
       "      <td>I liked the Da Vinci Code but it ultimatly did...</td>\n",
       "      <td>1</td>\n",
       "    </tr>\n",
       "  </tbody>\n",
       "</table>\n",
       "</div>"
      ],
      "text/plain": [
       "                                              Review  Sentiment\n",
       "0            The Da Vinci Code book is just awesome.          1\n",
       "1  this was the first clive cussler i've ever rea...          1\n",
       "2                   i liked the Da Vinci Code a lot.          1\n",
       "3                   i liked the Da Vinci Code a lot.          1\n",
       "4  I liked the Da Vinci Code but it ultimatly did...          1"
      ]
     },
     "execution_count": 12,
     "metadata": {},
     "output_type": "execute_result"
    }
   ],
   "source": [
    "df.Review = Z\n",
    "df['Sentiment'] = Y\n",
    "df.head()"
   ]
  },
  {
   "cell_type": "markdown",
   "metadata": {},
   "source": [
    "### Checking Sentiments bifurcations"
   ]
  },
  {
   "cell_type": "code",
   "execution_count": 13,
   "metadata": {},
   "outputs": [
    {
     "data": {
      "text/plain": [
       "1    3995\n",
       "0    3091\n",
       "Name: Sentiment, dtype: int64"
      ]
     },
     "execution_count": 13,
     "metadata": {},
     "output_type": "execute_result"
    }
   ],
   "source": [
    "df.Sentiment.value_counts()"
   ]
  },
  {
   "cell_type": "markdown",
   "metadata": {},
   "source": [
    "### Checking for Missing Values"
   ]
  },
  {
   "cell_type": "code",
   "execution_count": 14,
   "metadata": {
    "scrolled": true
   },
   "outputs": [
    {
     "data": {
      "text/plain": [
       "Review       0\n",
       "Sentiment    0\n",
       "dtype: int64"
      ]
     },
     "execution_count": 14,
     "metadata": {},
     "output_type": "execute_result"
    }
   ],
   "source": [
    "df.isnull().sum()"
   ]
  },
  {
   "cell_type": "markdown",
   "metadata": {},
   "source": [
    "# 4. Data Processing"
   ]
  },
  {
   "cell_type": "code",
   "execution_count": 15,
   "metadata": {
    "collapsed": true
   },
   "outputs": [],
   "source": [
    "# Characters to be removed from the raw text\n",
    "char_not_needed = ['*','<','>','\\'','\\\"','[',']','\\0','\\1','\\2','\\3','\\4','\\5','\\6','\\7','\\8','\\9', '.', '/', ':', ';','!','?','(',')','&','%','+','-']"
   ]
  },
  {
   "cell_type": "markdown",
   "metadata": {},
   "source": [
    "#### Function to Clean Review with better hygiene "
   ]
  },
  {
   "cell_type": "code",
   "execution_count": 16,
   "metadata": {
    "collapsed": true
   },
   "outputs": [],
   "source": [
    "def clean_text(data, remove_list):\n",
    "    cleaned_text = []\n",
    "    for data_unit in data:\n",
    "        for char in remove_list:\n",
    "            data_unit = data_unit.replace(char, '')\n",
    "        data_unit = data_unit.lower()\n",
    "        cleaned_text.append(data_unit)\n",
    "    return cleaned_text"
   ]
  },
  {
   "cell_type": "code",
   "execution_count": 17,
   "metadata": {
    "collapsed": true
   },
   "outputs": [],
   "source": [
    "# Clean the raw text line by line\n",
    "cleaned_text = clean_text(df.Review, char_not_needed)"
   ]
  },
  {
   "cell_type": "code",
   "execution_count": 18,
   "metadata": {
    "collapsed": true
   },
   "outputs": [],
   "source": [
    "df['Clean_Review'] = cleaned_text"
   ]
  },
  {
   "cell_type": "code",
   "execution_count": 19,
   "metadata": {},
   "outputs": [
    {
     "data": {
      "text/html": [
       "<div>\n",
       "<style>\n",
       "    .dataframe thead tr:only-child th {\n",
       "        text-align: right;\n",
       "    }\n",
       "\n",
       "    .dataframe thead th {\n",
       "        text-align: left;\n",
       "    }\n",
       "\n",
       "    .dataframe tbody tr th {\n",
       "        vertical-align: top;\n",
       "    }\n",
       "</style>\n",
       "<table border=\"1\" class=\"dataframe\">\n",
       "  <thead>\n",
       "    <tr style=\"text-align: right;\">\n",
       "      <th></th>\n",
       "      <th>Review</th>\n",
       "      <th>Sentiment</th>\n",
       "      <th>Clean_Review</th>\n",
       "    </tr>\n",
       "  </thead>\n",
       "  <tbody>\n",
       "    <tr>\n",
       "      <th>2991</th>\n",
       "      <td>I love Harry Potter.</td>\n",
       "      <td>1</td>\n",
       "      <td>i love harry potter</td>\n",
       "    </tr>\n",
       "    <tr>\n",
       "      <th>5728</th>\n",
       "      <td>Is it just me, or does Harry Potter suck?...</td>\n",
       "      <td>0</td>\n",
       "      <td>is it just me, or does harry potter suck</td>\n",
       "    </tr>\n",
       "    <tr>\n",
       "      <th>711</th>\n",
       "      <td>The Da Vinci Code was awesome, I can't wait to...</td>\n",
       "      <td>1</td>\n",
       "      <td>the da vinci code was awesome, i cant wait to ...</td>\n",
       "    </tr>\n",
       "    <tr>\n",
       "      <th>6286</th>\n",
       "      <td>Brokeback Mountain is fucking horrible..</td>\n",
       "      <td>0</td>\n",
       "      <td>brokeback mountain is fucking horrible</td>\n",
       "    </tr>\n",
       "    <tr>\n",
       "      <th>6072</th>\n",
       "      <td>Not because I hate Harry Potter, but because I...</td>\n",
       "      <td>0</td>\n",
       "      <td>not because i hate harry potter, but because i...</td>\n",
       "    </tr>\n",
       "    <tr>\n",
       "      <th>2644</th>\n",
       "      <td>I want to be here because I love Harry Potter,...</td>\n",
       "      <td>1</td>\n",
       "      <td>i want to be here because i love harry potter,...</td>\n",
       "    </tr>\n",
       "    <tr>\n",
       "      <th>408</th>\n",
       "      <td>Love luv lubb the Da Vinci Code!</td>\n",
       "      <td>1</td>\n",
       "      <td>love luv lubb the da vinci code</td>\n",
       "    </tr>\n",
       "  </tbody>\n",
       "</table>\n",
       "</div>"
      ],
      "text/plain": [
       "                                                 Review  Sentiment  \\\n",
       "2991                               I love Harry Potter.          1   \n",
       "5728       Is it just me, or does Harry Potter suck?...          0   \n",
       "711   The Da Vinci Code was awesome, I can't wait to...          1   \n",
       "6286           Brokeback Mountain is fucking horrible..          0   \n",
       "6072  Not because I hate Harry Potter, but because I...          0   \n",
       "2644  I want to be here because I love Harry Potter,...          1   \n",
       "408                    Love luv lubb the Da Vinci Code!          1   \n",
       "\n",
       "                                           Clean_Review  \n",
       "2991                                i love harry potter  \n",
       "5728           is it just me, or does harry potter suck  \n",
       "711   the da vinci code was awesome, i cant wait to ...  \n",
       "6286             brokeback mountain is fucking horrible  \n",
       "6072  not because i hate harry potter, but because i...  \n",
       "2644  i want to be here because i love harry potter,...  \n",
       "408                     love luv lubb the da vinci code  "
      ]
     },
     "execution_count": 19,
     "metadata": {},
     "output_type": "execute_result"
    }
   ],
   "source": [
    "df.sample(7)"
   ]
  },
  {
   "cell_type": "markdown",
   "metadata": {},
   "source": [
    "#### Getting New DF with Cleaned Text"
   ]
  },
  {
   "cell_type": "code",
   "execution_count": 20,
   "metadata": {
    "collapsed": true
   },
   "outputs": [],
   "source": [
    "df_mod = df.drop('Review', axis=1)"
   ]
  },
  {
   "cell_type": "code",
   "execution_count": 21,
   "metadata": {},
   "outputs": [
    {
     "data": {
      "text/html": [
       "<div>\n",
       "<style>\n",
       "    .dataframe thead tr:only-child th {\n",
       "        text-align: right;\n",
       "    }\n",
       "\n",
       "    .dataframe thead th {\n",
       "        text-align: left;\n",
       "    }\n",
       "\n",
       "    .dataframe tbody tr th {\n",
       "        vertical-align: top;\n",
       "    }\n",
       "</style>\n",
       "<table border=\"1\" class=\"dataframe\">\n",
       "  <thead>\n",
       "    <tr style=\"text-align: right;\">\n",
       "      <th></th>\n",
       "      <th>Sentiment</th>\n",
       "      <th>Clean_Review</th>\n",
       "    </tr>\n",
       "  </thead>\n",
       "  <tbody>\n",
       "    <tr>\n",
       "      <th>0</th>\n",
       "      <td>1</td>\n",
       "      <td>the da vinci code book is just awesome</td>\n",
       "    </tr>\n",
       "    <tr>\n",
       "      <th>1</th>\n",
       "      <td>1</td>\n",
       "      <td>this was the first clive cussler ive ever read...</td>\n",
       "    </tr>\n",
       "    <tr>\n",
       "      <th>2</th>\n",
       "      <td>1</td>\n",
       "      <td>i liked the da vinci code a lot</td>\n",
       "    </tr>\n",
       "    <tr>\n",
       "      <th>3</th>\n",
       "      <td>1</td>\n",
       "      <td>i liked the da vinci code a lot</td>\n",
       "    </tr>\n",
       "    <tr>\n",
       "      <th>4</th>\n",
       "      <td>1</td>\n",
       "      <td>i liked the da vinci code but it ultimatly did...</td>\n",
       "    </tr>\n",
       "  </tbody>\n",
       "</table>\n",
       "</div>"
      ],
      "text/plain": [
       "   Sentiment                                       Clean_Review\n",
       "0          1             the da vinci code book is just awesome\n",
       "1          1  this was the first clive cussler ive ever read...\n",
       "2          1                    i liked the da vinci code a lot\n",
       "3          1                    i liked the da vinci code a lot\n",
       "4          1  i liked the da vinci code but it ultimatly did..."
      ]
     },
     "execution_count": 21,
     "metadata": {},
     "output_type": "execute_result"
    }
   ],
   "source": [
    "df_mod.head()"
   ]
  },
  {
   "cell_type": "markdown",
   "metadata": {},
   "source": [
    "# 5. X and Y"
   ]
  },
  {
   "cell_type": "code",
   "execution_count": 22,
   "metadata": {
    "collapsed": true
   },
   "outputs": [],
   "source": [
    "X = df_mod.Clean_Review   # Holding all Reviews\n",
    "Y = df_mod.Sentiment      # Holding Sentiments"
   ]
  },
  {
   "cell_type": "markdown",
   "metadata": {},
   "source": [
    "#### Splitting Data into Train Test"
   ]
  },
  {
   "cell_type": "code",
   "execution_count": 23,
   "metadata": {
    "collapsed": true
   },
   "outputs": [],
   "source": [
    "# sklearn dependecies for train-test-split\n",
    "from sklearn.model_selection import train_test_split"
   ]
  },
  {
   "cell_type": "code",
   "execution_count": 24,
   "metadata": {
    "collapsed": true
   },
   "outputs": [],
   "source": [
    "trainX, testX, trainY, testY = train_test_split(X, Y, test_size=0.3, random_state=123)"
   ]
  },
  {
   "cell_type": "code",
   "execution_count": 25,
   "metadata": {},
   "outputs": [
    {
     "data": {
      "text/plain": [
       "(4960,)"
      ]
     },
     "execution_count": 25,
     "metadata": {},
     "output_type": "execute_result"
    },
    {
     "data": {
      "text/plain": [
       "(4960,)"
      ]
     },
     "execution_count": 25,
     "metadata": {},
     "output_type": "execute_result"
    },
    {
     "data": {
      "text/plain": [
       "(2126,)"
      ]
     },
     "execution_count": 25,
     "metadata": {},
     "output_type": "execute_result"
    },
    {
     "data": {
      "text/plain": [
       "(2126,)"
      ]
     },
     "execution_count": 25,
     "metadata": {},
     "output_type": "execute_result"
    },
    {
     "data": {
      "text/plain": [
       "(7086,)"
      ]
     },
     "execution_count": 25,
     "metadata": {},
     "output_type": "execute_result"
    },
    {
     "data": {
      "text/plain": [
       "(7086,)"
      ]
     },
     "execution_count": 25,
     "metadata": {},
     "output_type": "execute_result"
    }
   ],
   "source": [
    "for i in [trainX, trainY, testX, testY, X, Y]:\n",
    "    i.shape"
   ]
  },
  {
   "cell_type": "markdown",
   "metadata": {},
   "source": [
    "Thus, Train does have 4960 Documents, while, Test does have remaining 2126 (30%) Documents as Review and Sentiments."
   ]
  },
  {
   "cell_type": "markdown",
   "metadata": {},
   "source": [
    "# 6. Implementing Tokenizer (TF-IDF)"
   ]
  },
  {
   "cell_type": "code",
   "execution_count": 26,
   "metadata": {
    "scrolled": true
   },
   "outputs": [
    {
     "name": "stderr",
     "output_type": "stream",
     "text": [
      "C:\\Users\\Nivedit\\Anaconda3\\lib\\site-packages\\h5py\\__init__.py:34: FutureWarning: Conversion of the second argument of issubdtype from `float` to `np.floating` is deprecated. In future, it will be treated as `np.float64 == np.dtype(float).type`.\n",
      "  from ._conv import register_converters as _register_converters\n"
     ]
    }
   ],
   "source": [
    "from tensorflow.python.keras.preprocessing.text import Tokenizer"
   ]
  },
  {
   "cell_type": "code",
   "execution_count": 27,
   "metadata": {
    "collapsed": true
   },
   "outputs": [],
   "source": [
    "# Setting Vocabulary\n",
    "top_words = 2000\n",
    "t = Tokenizer(num_words=top_words)"
   ]
  },
  {
   "cell_type": "code",
   "execution_count": 28,
   "metadata": {
    "collapsed": true
   },
   "outputs": [],
   "source": [
    "# Fitting only on trainX\n",
    "t.fit_on_texts(trainX.tolist())"
   ]
  },
  {
   "cell_type": "code",
   "execution_count": 29,
   "metadata": {
    "collapsed": true
   },
   "outputs": [],
   "source": [
    "# Converting Words into matrix with TF-IDF based converted numbers\n",
    "trainX_token = t.texts_to_matrix(trainX, mode='tfidf')\n",
    "testX_token = t.texts_to_matrix(testX, mode='tfidf')"
   ]
  },
  {
   "cell_type": "code",
   "execution_count": 30,
   "metadata": {},
   "outputs": [
    {
     "data": {
      "text/plain": [
       "(4960, 2000)"
      ]
     },
     "execution_count": 30,
     "metadata": {},
     "output_type": "execute_result"
    },
    {
     "data": {
      "text/plain": [
       "(2126, 2000)"
      ]
     },
     "execution_count": 30,
     "metadata": {},
     "output_type": "execute_result"
    }
   ],
   "source": [
    "trainX_token.shape\n",
    "testX_token.shape"
   ]
  },
  {
   "cell_type": "markdown",
   "metadata": {},
   "source": [
    "Basis above, number of Rows are same as was above for Train and Test with Columns as 2000 which is Size of Vocabulary"
   ]
  },
  {
   "cell_type": "code",
   "execution_count": 31,
   "metadata": {},
   "outputs": [
    {
     "data": {
      "text/plain": [
       "'the da vinci code book is just awesome'"
      ]
     },
     "execution_count": 31,
     "metadata": {},
     "output_type": "execute_result"
    },
    {
     "data": {
      "text/plain": [
       "38"
      ]
     },
     "execution_count": 31,
     "metadata": {},
     "output_type": "execute_result"
    },
    {
     "data": {
      "text/plain": [
       "array([4.16805563, 4.19363405, 0.        , 0.        , 0.        ,\n",
       "       0.        , 4.20668069, 4.21990508, 0.        , 0.        ,\n",
       "       0.        , 0.        , 0.        , 0.        , 0.        ,\n",
       "       0.        , 0.        , 0.        , 0.        , 0.        ,\n",
       "       0.        , 0.        , 0.        , 0.        , 0.        ,\n",
       "       0.        , 0.        , 0.        , 0.        , 0.        ])"
      ]
     },
     "execution_count": 31,
     "metadata": {},
     "output_type": "execute_result"
    },
    {
     "data": {
      "text/plain": [
       "(2000,)"
      ]
     },
     "execution_count": 31,
     "metadata": {},
     "output_type": "execute_result"
    }
   ],
   "source": [
    "trainX[0]\n",
    "len(trainX[0])\n",
    "\n",
    "# Just checking this matrix as sample for one document in form of TF-IDF converted numbers\n",
    "trainX_token[0][100:130]\n",
    "trainX_token[0].shape"
   ]
  },
  {
   "cell_type": "markdown",
   "metadata": {},
   "source": [
    "** Checking Index of Unique Words as formed by Tokenizer **"
   ]
  },
  {
   "cell_type": "code",
   "execution_count": 32,
   "metadata": {},
   "outputs": [
    {
     "data": {
      "text/plain": [
       "1854"
      ]
     },
     "execution_count": 32,
     "metadata": {},
     "output_type": "execute_result"
    },
    {
     "data": {
      "text/plain": [
       "(1854, 2)"
      ]
     },
     "execution_count": 32,
     "metadata": {},
     "output_type": "execute_result"
    },
    {
     "data": {
      "text/plain": [
       "[('i', 1),\n",
       " ('the', 2),\n",
       " ('and', 3),\n",
       " ('potter', 4),\n",
       " ('harry', 5),\n",
       " ('vinci', 6),\n",
       " ('da', 7),\n",
       " ('brokeback', 8),\n",
       " ('mountain', 9),\n",
       " ('code', 10)]"
      ]
     },
     "execution_count": 32,
     "metadata": {},
     "output_type": "execute_result"
    }
   ],
   "source": [
    "len(t.word_index)\n",
    "\n",
    "# Getting details into List from t.word_index() as this is a Dictionary\n",
    "words_index_list = list(t.word_index.items())\n",
    "\n",
    "np.shape(words_index_list)\n",
    "\n",
    "# Checking first 15 words and their equivalent Index\n",
    "words_index_list[:10]                       "
   ]
  },
  {
   "cell_type": "markdown",
   "metadata": {},
   "source": [
    "** Checking Counts or Frequency of Unique Words **"
   ]
  },
  {
   "cell_type": "code",
   "execution_count": 33,
   "metadata": {},
   "outputs": [
    {
     "data": {
      "text/plain": [
       "1854"
      ]
     },
     "execution_count": 33,
     "metadata": {},
     "output_type": "execute_result"
    },
    {
     "data": {
      "text/plain": [
       "(1854, 2)"
      ]
     },
     "execution_count": 33,
     "metadata": {},
     "output_type": "execute_result"
    },
    {
     "data": {
      "text/plain": [
       "[('mission', 774),\n",
       " ('impossible', 776),\n",
       " ('2', 74),\n",
       " ('sucked', 437),\n",
       " ('by', 78),\n",
       " ('the', 2239),\n",
       " ('way', 74),\n",
       " ('so', 335),\n",
       " ('i', 3197),\n",
       " ('dont', 76)]"
      ]
     },
     "execution_count": 33,
     "metadata": {},
     "output_type": "execute_result"
    }
   ],
   "source": [
    "len(t.word_counts)\n",
    "\n",
    "# Getting details int List from t.words_counts() as this is a Dictionary\n",
    "words_counts_list = list(t.word_counts.items())\n",
    "\n",
    "np.shape(words_counts_list)\n",
    "\n",
    "# Checking first 15 words and their equivalent Count value\n",
    "words_counts_list[:10]                           "
   ]
  },
  {
   "cell_type": "markdown",
   "metadata": {},
   "source": [
    "# 7) Building the Model on these Tokenized items"
   ]
  },
  {
   "cell_type": "markdown",
   "metadata": {},
   "source": [
    "Using Fully-Connected Dense Layer"
   ]
  },
  {
   "cell_type": "code",
   "execution_count": 34,
   "metadata": {
    "collapsed": true
   },
   "outputs": [],
   "source": [
    "# Getting Keras Sequential Model and Layers\n",
    "from tensorflow.python.keras.models import Sequential\n",
    "from tensorflow.python.keras.layers import Dense, Dropout"
   ]
  },
  {
   "cell_type": "code",
   "execution_count": 35,
   "metadata": {
    "collapsed": true
   },
   "outputs": [],
   "source": [
    "# Instantiate Sequential model\n",
    "model = Sequential()"
   ]
  },
  {
   "cell_type": "markdown",
   "metadata": {},
   "source": [
    "**Training with 5 FC Dense layer with defined set of Neurons**"
   ]
  },
  {
   "cell_type": "code",
   "execution_count": 36,
   "metadata": {
    "collapsed": true
   },
   "outputs": [],
   "source": [
    "# Layer 1 with 200 Neurons, have passed 2000 as Input Shape which is Vocabulary Size\n",
    "model.add(Dense(200, activation = \"relu\", input_shape = (2000,)))\n",
    "\n",
    "# Layer 2 with 100 Neurons\n",
    "model.add(Dense(100, activation = \"relu\"))\n",
    "\n",
    "# Adding Dropout as 25% to avoid Overfit\n",
    "model.add(Dropout(0.25))\n",
    "\n",
    "# Layer 3 with 60 Neurons\n",
    "model.add(Dense(60, activation = \"relu\"))\n",
    "\n",
    "# Adding Dropout as 50% to avoid Overfit\n",
    "model.add(Dropout(0.5))\n",
    "\n",
    "# Layer 4 with 30 Neuronw\n",
    "model.add(Dense(30, activation = \"relu\"))"
   ]
  },
  {
   "cell_type": "markdown",
   "metadata": {},
   "source": [
    "#### Final Layer with SIGMOID function to get output in 0 or 1"
   ]
  },
  {
   "cell_type": "code",
   "execution_count": 37,
   "metadata": {
    "collapsed": true
   },
   "outputs": [],
   "source": [
    "model.add(Dense(1, activation=\"sigmoid\"))"
   ]
  },
  {
   "cell_type": "markdown",
   "metadata": {},
   "source": [
    "Compile"
   ]
  },
  {
   "cell_type": "code",
   "execution_count": 38,
   "metadata": {
    "collapsed": true
   },
   "outputs": [],
   "source": [
    "model.compile(optimizer='adam', loss=\"binary_crossentropy\", metrics=(['accuracy']))"
   ]
  },
  {
   "cell_type": "markdown",
   "metadata": {},
   "source": [
    "**Fit** with 10 epochs for faster execution"
   ]
  },
  {
   "cell_type": "code",
   "execution_count": 39,
   "metadata": {},
   "outputs": [
    {
     "name": "stdout",
     "output_type": "stream",
     "text": [
      "Train on 4960 samples, validate on 2126 samples\n",
      "Epoch 1/10\n",
      "4960/4960 [==============================] - 4s - loss: 0.2766 - acc: 0.9018 - val_loss: 0.0477 - val_acc: 0.9868\n",
      "Epoch 2/10\n",
      "4960/4960 [==============================] - 2s - loss: 0.0182 - acc: 0.9960 - val_loss: 0.0498 - val_acc: 0.9873\n",
      "Epoch 3/10\n",
      "4960/4960 [==============================] - 2s - loss: 0.0055 - acc: 0.9990 - val_loss: 0.0623 - val_acc: 0.9868\n",
      "Epoch 4/10\n",
      "4960/4960 [==============================] - 2s - loss: 0.0033 - acc: 0.9996 - val_loss: 0.0621 - val_acc: 0.9882\n",
      "Epoch 5/10\n",
      "4960/4960 [==============================] - 2s - loss: 0.0013 - acc: 0.9998 - val_loss: 0.0674 - val_acc: 0.9873\n",
      "Epoch 6/10\n",
      "4960/4960 [==============================] - 1s - loss: 0.0012 - acc: 0.9996 - val_loss: 0.0705 - val_acc: 0.9878\n",
      "Epoch 7/10\n",
      "4960/4960 [==============================] - 1s - loss: 9.6482e-04 - acc: 0.9996 - val_loss: 0.0716 - val_acc: 0.9882\n",
      "Epoch 8/10\n",
      "4960/4960 [==============================] - 2s - loss: 6.5813e-04 - acc: 0.9998 - val_loss: 0.0729 - val_acc: 0.9882\n",
      "Epoch 9/10\n",
      "4960/4960 [==============================] - 2s - loss: 0.0010 - acc: 0.9996 - val_loss: 0.0757 - val_acc: 0.9882\n",
      "Epoch 10/10\n",
      "4960/4960 [==============================] - 1s - loss: 5.1558e-04 - acc: 0.9996 - val_loss: 0.0760 - val_acc: 0.9887\n"
     ]
    },
    {
     "data": {
      "text/plain": [
       "<tensorflow.python.keras._impl.keras.callbacks.History at 0x2b80aea2978>"
      ]
     },
     "execution_count": 39,
     "metadata": {},
     "output_type": "execute_result"
    }
   ],
   "source": [
    "model.fit(trainX_token, trainY, validation_data=(testX_token, testY), batch_size=64, epochs=10)"
   ]
  },
  {
   "cell_type": "code",
   "execution_count": 40,
   "metadata": {},
   "outputs": [
    {
     "name": "stdout",
     "output_type": "stream",
     "text": [
      "_________________________________________________________________\n",
      "Layer (type)                 Output Shape              Param #   \n",
      "=================================================================\n",
      "dense_1 (Dense)              (None, 200)               400200    \n",
      "_________________________________________________________________\n",
      "dense_2 (Dense)              (None, 100)               20100     \n",
      "_________________________________________________________________\n",
      "dropout_1 (Dropout)          (None, 100)               0         \n",
      "_________________________________________________________________\n",
      "dense_3 (Dense)              (None, 60)                6060      \n",
      "_________________________________________________________________\n",
      "dropout_2 (Dropout)          (None, 60)                0         \n",
      "_________________________________________________________________\n",
      "dense_4 (Dense)              (None, 30)                1830      \n",
      "_________________________________________________________________\n",
      "dense_5 (Dense)              (None, 1)                 31        \n",
      "=================================================================\n",
      "Total params: 428,221\n",
      "Trainable params: 428,221\n",
      "Non-trainable params: 0\n",
      "_________________________________________________________________\n"
     ]
    }
   ],
   "source": [
    "model.summary()"
   ]
  },
  {
   "cell_type": "markdown",
   "metadata": {},
   "source": [
    "Basis this, there are total of 428,221 Weights and Bias that are learned here"
   ]
  },
  {
   "cell_type": "markdown",
   "metadata": {},
   "source": [
    "## 8) Predicting Sentiments"
   ]
  },
  {
   "cell_type": "code",
   "execution_count": 41,
   "metadata": {},
   "outputs": [
    {
     "name": "stdout",
     "output_type": "stream",
     "text": [
      "1824/2126 [========================>.....] - ETA: 0s"
     ]
    }
   ],
   "source": [
    "pred_train_token = model.predict_classes(trainX_token)\n",
    "pred_test_token = model.predict_classes(testX_token)"
   ]
  },
  {
   "cell_type": "code",
   "execution_count": 42,
   "metadata": {},
   "outputs": [
    {
     "data": {
      "text/html": [
       "<div>\n",
       "<style>\n",
       "    .dataframe thead tr:only-child th {\n",
       "        text-align: right;\n",
       "    }\n",
       "\n",
       "    .dataframe thead th {\n",
       "        text-align: left;\n",
       "    }\n",
       "\n",
       "    .dataframe tbody tr th {\n",
       "        vertical-align: top;\n",
       "    }\n",
       "</style>\n",
       "<table border=\"1\" class=\"dataframe\">\n",
       "  <thead>\n",
       "    <tr style=\"text-align: right;\">\n",
       "      <th></th>\n",
       "      <th>Sentiment</th>\n",
       "    </tr>\n",
       "  </thead>\n",
       "  <tbody>\n",
       "    <tr>\n",
       "      <th>5027</th>\n",
       "      <td>0</td>\n",
       "    </tr>\n",
       "    <tr>\n",
       "      <th>2607</th>\n",
       "      <td>1</td>\n",
       "    </tr>\n",
       "    <tr>\n",
       "      <th>1501</th>\n",
       "      <td>1</td>\n",
       "    </tr>\n",
       "    <tr>\n",
       "      <th>3818</th>\n",
       "      <td>1</td>\n",
       "    </tr>\n",
       "    <tr>\n",
       "      <th>6363</th>\n",
       "      <td>0</td>\n",
       "    </tr>\n",
       "  </tbody>\n",
       "</table>\n",
       "</div>"
      ],
      "text/plain": [
       "      Sentiment\n",
       "5027          0\n",
       "2607          1\n",
       "1501          1\n",
       "3818          1\n",
       "6363          0"
      ]
     },
     "execution_count": 42,
     "metadata": {},
     "output_type": "execute_result"
    },
    {
     "data": {
      "text/html": [
       "<div>\n",
       "<style>\n",
       "    .dataframe thead tr:only-child th {\n",
       "        text-align: right;\n",
       "    }\n",
       "\n",
       "    .dataframe thead th {\n",
       "        text-align: left;\n",
       "    }\n",
       "\n",
       "    .dataframe tbody tr th {\n",
       "        vertical-align: top;\n",
       "    }\n",
       "</style>\n",
       "<table border=\"1\" class=\"dataframe\">\n",
       "  <thead>\n",
       "    <tr style=\"text-align: right;\">\n",
       "      <th></th>\n",
       "      <th>0</th>\n",
       "    </tr>\n",
       "  </thead>\n",
       "  <tbody>\n",
       "    <tr>\n",
       "      <th>0</th>\n",
       "      <td>0</td>\n",
       "    </tr>\n",
       "    <tr>\n",
       "      <th>1</th>\n",
       "      <td>1</td>\n",
       "    </tr>\n",
       "    <tr>\n",
       "      <th>2</th>\n",
       "      <td>1</td>\n",
       "    </tr>\n",
       "    <tr>\n",
       "      <th>3</th>\n",
       "      <td>1</td>\n",
       "    </tr>\n",
       "    <tr>\n",
       "      <th>4</th>\n",
       "      <td>0</td>\n",
       "    </tr>\n",
       "  </tbody>\n",
       "</table>\n",
       "</div>"
      ],
      "text/plain": [
       "   0\n",
       "0  0\n",
       "1  1\n",
       "2  1\n",
       "3  1\n",
       "4  0"
      ]
     },
     "execution_count": 42,
     "metadata": {},
     "output_type": "execute_result"
    },
    {
     "data": {
      "text/html": [
       "<div>\n",
       "<style>\n",
       "    .dataframe thead tr:only-child th {\n",
       "        text-align: right;\n",
       "    }\n",
       "\n",
       "    .dataframe thead th {\n",
       "        text-align: left;\n",
       "    }\n",
       "\n",
       "    .dataframe tbody tr th {\n",
       "        vertical-align: top;\n",
       "    }\n",
       "</style>\n",
       "<table border=\"1\" class=\"dataframe\">\n",
       "  <thead>\n",
       "    <tr style=\"text-align: right;\">\n",
       "      <th></th>\n",
       "      <th>Sentiment</th>\n",
       "    </tr>\n",
       "  </thead>\n",
       "  <tbody>\n",
       "    <tr>\n",
       "      <th>5824</th>\n",
       "      <td>0</td>\n",
       "    </tr>\n",
       "    <tr>\n",
       "      <th>7027</th>\n",
       "      <td>0</td>\n",
       "    </tr>\n",
       "    <tr>\n",
       "      <th>1421</th>\n",
       "      <td>1</td>\n",
       "    </tr>\n",
       "    <tr>\n",
       "      <th>5072</th>\n",
       "      <td>0</td>\n",
       "    </tr>\n",
       "    <tr>\n",
       "      <th>4302</th>\n",
       "      <td>0</td>\n",
       "    </tr>\n",
       "  </tbody>\n",
       "</table>\n",
       "</div>"
      ],
      "text/plain": [
       "      Sentiment\n",
       "5824          0\n",
       "7027          0\n",
       "1421          1\n",
       "5072          0\n",
       "4302          0"
      ]
     },
     "execution_count": 42,
     "metadata": {},
     "output_type": "execute_result"
    },
    {
     "data": {
      "text/html": [
       "<div>\n",
       "<style>\n",
       "    .dataframe thead tr:only-child th {\n",
       "        text-align: right;\n",
       "    }\n",
       "\n",
       "    .dataframe thead th {\n",
       "        text-align: left;\n",
       "    }\n",
       "\n",
       "    .dataframe tbody tr th {\n",
       "        vertical-align: top;\n",
       "    }\n",
       "</style>\n",
       "<table border=\"1\" class=\"dataframe\">\n",
       "  <thead>\n",
       "    <tr style=\"text-align: right;\">\n",
       "      <th></th>\n",
       "      <th>0</th>\n",
       "    </tr>\n",
       "  </thead>\n",
       "  <tbody>\n",
       "    <tr>\n",
       "      <th>0</th>\n",
       "      <td>0</td>\n",
       "    </tr>\n",
       "    <tr>\n",
       "      <th>1</th>\n",
       "      <td>0</td>\n",
       "    </tr>\n",
       "    <tr>\n",
       "      <th>2</th>\n",
       "      <td>1</td>\n",
       "    </tr>\n",
       "    <tr>\n",
       "      <th>3</th>\n",
       "      <td>0</td>\n",
       "    </tr>\n",
       "    <tr>\n",
       "      <th>4</th>\n",
       "      <td>0</td>\n",
       "    </tr>\n",
       "  </tbody>\n",
       "</table>\n",
       "</div>"
      ],
      "text/plain": [
       "   0\n",
       "0  0\n",
       "1  0\n",
       "2  1\n",
       "3  0\n",
       "4  0"
      ]
     },
     "execution_count": 42,
     "metadata": {},
     "output_type": "execute_result"
    }
   ],
   "source": [
    "# Checking for actual data and predicted via Pandas.DataFrame \n",
    "for i in [trainY, pred_train_token, testY, pred_test_token]:\n",
    "    pd.DataFrame(i).head(5)"
   ]
  },
  {
   "cell_type": "markdown",
   "metadata": {},
   "source": [
    "## 9) Evaluating Accuracy basis Confusion-Matrix"
   ]
  },
  {
   "cell_type": "markdown",
   "metadata": {},
   "source": [
    "Confusion Matrix for Train"
   ]
  },
  {
   "cell_type": "code",
   "execution_count": 43,
   "metadata": {},
   "outputs": [
    {
     "data": {
      "image/png": "[encoded data removed]",
      "text/plain": [
       "<matplotlib.figure.Figure at 0x2b80b18b6a0>"
      ]
     },
     "metadata": {},
     "output_type": "display_data"
    },
    {
     "name": "stdout",
     "output_type": "stream",
     "text": [
      "Overall Accuracy of model is : 99.9798\n",
      "TPRate or Recall or Sensitivity i.e. (TP / Actual YES): 99.9639\n",
      "FPRate RF_i.e. (FP / Actual NO): 0.0000\n",
      "Specificity i.e. (TN / Actual NO): 100.0000\n",
      "Precision i.e. (TP / Predicted YES): 100.0000\n"
     ]
    }
   ],
   "source": [
    "conf_train = confusion_matrix(trainY, pred_train_token)\n",
    "fun_plot_confusion_matrix(conf_train)\n",
    "fun_conf_mat_calc(conf_train)"
   ]
  },
  {
   "cell_type": "markdown",
   "metadata": {},
   "source": [
    "Confusion Matrix for Test"
   ]
  },
  {
   "cell_type": "code",
   "execution_count": 44,
   "metadata": {},
   "outputs": [
    {
     "data": {
      "image/png": "[encoded data removed]",
      "text/plain": [
       "<matplotlib.figure.Figure at 0x2b80b194908>"
      ]
     },
     "metadata": {},
     "output_type": "display_data"
    },
    {
     "name": "stdout",
     "output_type": "stream",
     "text": [
      "Overall Accuracy of model is : 98.8711\n",
      "TPRate or Recall or Sensitivity i.e. (TP / Actual YES): 99.1006\n",
      "FPRate RF_i.e. (FP / Actual NO): 1.4396\n",
      "Specificity i.e. (TN / Actual NO): 98.5604\n",
      "Precision i.e. (TP / Predicted YES): 98.9388\n"
     ]
    }
   ],
   "source": [
    "conf_test = confusion_matrix(testY, pred_test_token)\n",
    "fun_plot_confusion_matrix(conf_test)\n",
    "fun_conf_mat_calc(conf_test)"
   ]
  },
  {
   "cell_type": "markdown",
   "metadata": {},
   "source": [
    "## 10) Conclusion"
   ]
  },
  {
   "cell_type": "code",
   "execution_count": 45,
   "metadata": {},
   "outputs": [
    {
     "name": "stdout",
     "output_type": "stream",
     "text": [
      "Basis above results, for test, 11 classes are not predicted correctly for Positive Sentiment.\n",
      "However, 13 classes are not predicted correctly for Negative Sentiment.\n"
     ]
    }
   ],
   "source": [
    "print(\"Basis above results, for test, {} classes are not predicted correctly for Positive Sentiment.\".format(conf_test.item(2)))\n",
    "\n",
    "print(\"However, {} classes are not predicted correctly for Negative Sentiment.\".format(conf_test.item(1)))"
   ]
  },
  {
   "cell_type": "markdown",
   "metadata": {},
   "source": [
    "#### Basis above results, can find that for TEST dataset, 11 classes are not predicted correctly for Positive Sentiment while, 13 classes are not predicted correctly for Negative Sentiment"
   ]
  }
 ],
 "metadata": {
  "kernelspec": {
   "display_name": "Python 3",
   "language": "python",
   "name": "python3"
  },
  "language_info": {
   "codemirror_mode": {
    "name": "ipython",
    "version": 3
   },
   "file_extension": ".py",
   "mimetype": "text/x-python",
   "name": "python",
   "nbconvert_exporter": "python",
   "pygments_lexer": "ipython3",
   "version": "3.6.1"
  }
 },
 "nbformat": 4,
 "nbformat_minor": 2
}
