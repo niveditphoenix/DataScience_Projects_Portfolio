{
 "cells": [
  {
   "cell_type": "markdown",
   "metadata": {},
   "source": [
    "# Deep Learning Project - NLP"
   ]
  },
  {
   "cell_type": "markdown",
   "metadata": {},
   "source": [
    "### Understanding Semantic relationship by developing Word embeddings with Gensim using [Word2Vector text processing algorithm](https://radimrehurek.com/gensim/models/word2vec.html) in NLP on IMDB Movie review dataset."
   ]
  },
  {
   "cell_type": "markdown",
   "metadata": {},
   "source": [
    "This project dives on a more advanced level in NLP Deep-Learning framework by developing semantic relationships between words as applied on IMDB Movie review dataset. As in another [project](https://github.com/niveditphoenix/DataScience_Projects_Portfolio/blob/master/Deep%20Learning%20Projects%20Using%20Tensorflow%20%26%20KERAS/Sentiment_Analysis_NLP_DaVinci_TensorflowTokenizer_DNN.ipynb), we used Tokenizer to have number representation of words to predict sentiment, though, it lacks in translating these words into a pure mathematical equation which machine can understand.\n",
    "\n",
    "In this project, we will establish embeddings of each word in vocabulary with fixed size, which is 50 in this case. Thus, each word will be represented by set of 50 numbers in matrix to form the sematic relationships with other words in terms of Cosine-Distance.\n",
    "\n",
    "It is possible by applying Gensim library which comprises of [Word2Vector algorithm](https://radimrehurek.com/gensim/models/word2vec.html).\n",
    "\n",
    "In simple language, we shall try to find a popular example i.e. : **King + Man = Queen + Woman**, same as like we deal with numbers.\n",
    "\n",
    "Using Principal-Component-Analysis, we will visualize how words are related basis this trained model.\n",
    "\n",
    "Also, we will check here to use pre-trained [Google's Word2Vec model](https://code.google.com/archive/p/word2vec/). This model is pre-trained by Google on news data containing 3 million words and phrases represented in 300 dimensional embedding word-vectors. It's around 1.53 GB zipped file, click [here](https://drive.google.com/file/d/0B7XkCwpI5KDYNlNUTTlSS21pQmM/edit) to download."
   ]
  },
  {
   "cell_type": "markdown",
   "metadata": {},
   "source": [
    "** Approach**\n",
    "1. Load Gensim with other dependencies\n",
    "2. Load Input Data\n",
    "3. Data Cleaning & Processing\n",
    "4. Getting all words in a list from each review\n",
    "5. Model building\n",
    "6. Exploring Model\n",
    "7. Visualize Word Embedding using PCA with 2 vectors\n",
    "8. Loading Google's Pre-Trained Word2Vec and exploring it"
   ]
  },
  {
   "cell_type": "markdown",
   "metadata": {},
   "source": [
    "Let's roll the excitement...!"
   ]
  },
  {
   "cell_type": "markdown",
   "metadata": {
    "collapsed": true
   },
   "source": [
    "## 1. Load Gensim with other dependencies"
   ]
  },
  {
   "cell_type": "code",
   "execution_count": 1,
   "metadata": {},
   "outputs": [
    {
     "name": "stderr",
     "output_type": "stream",
     "text": [
      "C:\\Users\\Nivedit\\Anaconda3\\lib\\site-packages\\gensim\\utils.py:860: UserWarning: detected Windows; aliasing chunkize to chunkize_serial\n",
      "  warnings.warn(\"detected Windows; aliasing chunkize to chunkize_serial\")\n"
     ]
    }
   ],
   "source": [
    "import gensim\n",
    "import pandas as pd\n",
    "import os"
   ]
  },
  {
   "cell_type": "markdown",
   "metadata": {},
   "source": [
    "## 2. Load Input Data"
   ]
  },
  {
   "cell_type": "markdown",
   "metadata": {},
   "source": [
    "Click [here](https://github.com/niveditphoenix/DataScience_Projects_Portfolio/raw/master/Deep%20Learning%20Projects%20Using%20Tensorflow%20%26%20KERAS/NLP/unlabeledTrainData.tsv.zip) to download IMDB-Movie-Review CSV Input file"
   ]
  },
  {
   "cell_type": "code",
   "execution_count": 2,
   "metadata": {
    "collapsed": true
   },
   "outputs": [],
   "source": [
    "path = r\"C:\\Users\\Nivedit\\CreativeSpace\\myWork\\Github_Projects\\DL\\IMDB_Gensim_Word_Embedding\\IMDB_Movie_Rating_Sentiment_NLP_DL\"\n",
    "df = pd.read_csv(os.path.join(path, \"unlabeledTrainData.tsv.zip\"), header = 0, delimiter = \"\\t\", quoting=3)"
   ]
  },
  {
   "cell_type": "code",
   "execution_count": 27,
   "metadata": {},
   "outputs": [
    {
     "name": "stdout",
     "output_type": "stream",
     "text": [
      "(50000, 3)\n"
     ]
    },
    {
     "data": {
      "text/html": [
       "<div>\n",
       "<style>\n",
       "    .dataframe thead tr:only-child th {\n",
       "        text-align: right;\n",
       "    }\n",
       "\n",
       "    .dataframe thead th {\n",
       "        text-align: left;\n",
       "    }\n",
       "\n",
       "    .dataframe tbody tr th {\n",
       "        vertical-align: top;\n",
       "    }\n",
       "</style>\n",
       "<table border=\"1\" class=\"dataframe\">\n",
       "  <thead>\n",
       "    <tr style=\"text-align: right;\">\n",
       "      <th></th>\n",
       "      <th>id</th>\n",
       "      <th>review</th>\n",
       "      <th>clean_review</th>\n",
       "    </tr>\n",
       "  </thead>\n",
       "  <tbody>\n",
       "    <tr>\n",
       "      <th>39597</th>\n",
       "      <td>\"6273_0\"</td>\n",
       "      <td>\"As a movie viewer that loves strange and offb...</td>\n",
       "      <td>as movie viewer that loves strange and offbeat...</td>\n",
       "    </tr>\n",
       "    <tr>\n",
       "      <th>46238</th>\n",
       "      <td>\"9615_0\"</td>\n",
       "      <td>\"Delta Force 3 is your typical mindless action...</td>\n",
       "      <td>delta force is your typical mindless action fe...</td>\n",
       "    </tr>\n",
       "    <tr>\n",
       "      <th>23301</th>\n",
       "      <td>\"43877_0\"</td>\n",
       "      <td>\"'Blue City' was nearly a contender in all cat...</td>\n",
       "      <td>blue city was nearly contender in all categori...</td>\n",
       "    </tr>\n",
       "    <tr>\n",
       "      <th>8498</th>\n",
       "      <td>\"11410_0\"</td>\n",
       "      <td>\"Hard to fault a Clint Eastwood movie; he is s...</td>\n",
       "      <td>hard to fault clint eastwood movie he is so ve...</td>\n",
       "    </tr>\n",
       "    <tr>\n",
       "      <th>46101</th>\n",
       "      <td>\"44678_0\"</td>\n",
       "      <td>\"Let me start off by saying that I feel like I...</td>\n",
       "      <td>let me start off by saying that feel like ve l...</td>\n",
       "    </tr>\n",
       "    <tr>\n",
       "      <th>46883</th>\n",
       "      <td>\"16672_0\"</td>\n",
       "      <td>\"I remember the week I saw Casablanca and Play...</td>\n",
       "      <td>remember the week saw casablanca and play it a...</td>\n",
       "    </tr>\n",
       "  </tbody>\n",
       "</table>\n",
       "</div>"
      ],
      "text/plain": [
       "              id                                             review  \\\n",
       "39597   \"6273_0\"  \"As a movie viewer that loves strange and offb...   \n",
       "46238   \"9615_0\"  \"Delta Force 3 is your typical mindless action...   \n",
       "23301  \"43877_0\"  \"'Blue City' was nearly a contender in all cat...   \n",
       "8498   \"11410_0\"  \"Hard to fault a Clint Eastwood movie; he is s...   \n",
       "46101  \"44678_0\"  \"Let me start off by saying that I feel like I...   \n",
       "46883  \"16672_0\"  \"I remember the week I saw Casablanca and Play...   \n",
       "\n",
       "                                            clean_review  \n",
       "39597  as movie viewer that loves strange and offbeat...  \n",
       "46238  delta force is your typical mindless action fe...  \n",
       "23301  blue city was nearly contender in all categori...  \n",
       "8498   hard to fault clint eastwood movie he is so ve...  \n",
       "46101  let me start off by saying that feel like ve l...  \n",
       "46883  remember the week saw casablanca and play it a...  "
      ]
     },
     "execution_count": 27,
     "metadata": {},
     "output_type": "execute_result"
    }
   ],
   "source": [
    "print(df.shape)\n",
    "df.sample(6)"
   ]
  },
  {
   "cell_type": "markdown",
   "metadata": {},
   "source": [
    "## 3. Data Cleaning"
   ]
  },
  {
   "cell_type": "markdown",
   "metadata": {},
   "source": [
    "In review, text is not cleaned and includes various irrelevant characters which needs to be cleaned"
   ]
  },
  {
   "cell_type": "code",
   "execution_count": 4,
   "metadata": {
    "collapsed": true
   },
   "outputs": [],
   "source": [
    "import re"
   ]
  },
  {
   "cell_type": "code",
   "execution_count": 5,
   "metadata": {
    "collapsed": true
   },
   "outputs": [],
   "source": [
    "def clean_data(string):\n",
    "    try:\n",
    "        string = re.sub(r'^https?:\\/\\/<>.*[\\r\\n]*', '', string, flags = re.MULTILINE)\n",
    "        string = re.sub(r'[^A-Za-z]',\" \", string)\n",
    "        words = string.strip().lower().split()\n",
    "        words = [w for w in words if len(w) > 1]\n",
    "        return \" \".join(words)\n",
    "    except:\n",
    "        return \"\""
   ]
  },
  {
   "cell_type": "code",
   "execution_count": 6,
   "metadata": {},
   "outputs": [
    {
     "data": {
      "text/html": [
       "<div>\n",
       "<style>\n",
       "    .dataframe thead tr:only-child th {\n",
       "        text-align: right;\n",
       "    }\n",
       "\n",
       "    .dataframe thead th {\n",
       "        text-align: left;\n",
       "    }\n",
       "\n",
       "    .dataframe tbody tr th {\n",
       "        vertical-align: top;\n",
       "    }\n",
       "</style>\n",
       "<table border=\"1\" class=\"dataframe\">\n",
       "  <thead>\n",
       "    <tr style=\"text-align: right;\">\n",
       "      <th></th>\n",
       "      <th>id</th>\n",
       "      <th>review</th>\n",
       "      <th>clean_review</th>\n",
       "    </tr>\n",
       "  </thead>\n",
       "  <tbody>\n",
       "    <tr>\n",
       "      <th>0</th>\n",
       "      <td>\"9999_0\"</td>\n",
       "      <td>\"Watching Time Chasers, it obvious that it was...</td>\n",
       "      <td>watching time chasers it obvious that it was m...</td>\n",
       "    </tr>\n",
       "    <tr>\n",
       "      <th>1</th>\n",
       "      <td>\"45057_0\"</td>\n",
       "      <td>\"I saw this film about 20 years ago and rememb...</td>\n",
       "      <td>saw this film about years ago and remember it ...</td>\n",
       "    </tr>\n",
       "    <tr>\n",
       "      <th>2</th>\n",
       "      <td>\"15561_0\"</td>\n",
       "      <td>\"Minor Spoilers&lt;br /&gt;&lt;br /&gt;In New York, Joan B...</td>\n",
       "      <td>minor spoilers br br in new york joan barnard ...</td>\n",
       "    </tr>\n",
       "    <tr>\n",
       "      <th>3</th>\n",
       "      <td>\"7161_0\"</td>\n",
       "      <td>\"I went to see this film with a great deal of ...</td>\n",
       "      <td>went to see this film with great deal of excit...</td>\n",
       "    </tr>\n",
       "    <tr>\n",
       "      <th>4</th>\n",
       "      <td>\"43971_0\"</td>\n",
       "      <td>\"Yes, I agree with everyone on this site this ...</td>\n",
       "      <td>yes agree with everyone on this site this movi...</td>\n",
       "    </tr>\n",
       "  </tbody>\n",
       "</table>\n",
       "</div>"
      ],
      "text/plain": [
       "          id                                             review  \\\n",
       "0   \"9999_0\"  \"Watching Time Chasers, it obvious that it was...   \n",
       "1  \"45057_0\"  \"I saw this film about 20 years ago and rememb...   \n",
       "2  \"15561_0\"  \"Minor Spoilers<br /><br />In New York, Joan B...   \n",
       "3   \"7161_0\"  \"I went to see this film with a great deal of ...   \n",
       "4  \"43971_0\"  \"Yes, I agree with everyone on this site this ...   \n",
       "\n",
       "                                        clean_review  \n",
       "0  watching time chasers it obvious that it was m...  \n",
       "1  saw this film about years ago and remember it ...  \n",
       "2  minor spoilers br br in new york joan barnard ...  \n",
       "3  went to see this film with great deal of excit...  \n",
       "4  yes agree with everyone on this site this movi...  "
      ]
     },
     "execution_count": 6,
     "metadata": {},
     "output_type": "execute_result"
    }
   ],
   "source": [
    "df['clean_review'] = df.review.apply(clean_data)\n",
    "df.head()"
   ]
  },
  {
   "cell_type": "markdown",
   "metadata": {},
   "source": [
    "## 4. Converting each Review to a Word-List before feeding into a Word-Vector"
   ]
  },
  {
   "cell_type": "code",
   "execution_count": 7,
   "metadata": {
    "collapsed": true
   },
   "outputs": [],
   "source": [
    "document = []\n",
    "\n",
    "for each_review in df.clean_review:\n",
    "    document.append(each_review.split(\" \"))"
   ]
  },
  {
   "cell_type": "code",
   "execution_count": 28,
   "metadata": {
    "scrolled": true
   },
   "outputs": [
    {
     "name": "stdout",
     "output_type": "stream",
     "text": [
      "50000\n"
     ]
    },
    {
     "data": {
      "text/plain": [
       "['saw',\n",
       " 'this',\n",
       " 'film',\n",
       " 'about',\n",
       " 'years',\n",
       " 'ago',\n",
       " 'and',\n",
       " 'remember',\n",
       " 'it',\n",
       " 'as',\n",
       " 'being',\n",
       " 'particularly',\n",
       " 'nasty',\n",
       " 'believe',\n",
       " 'it',\n",
       " 'is',\n",
       " 'based',\n",
       " 'on',\n",
       " 'true',\n",
       " 'incident',\n",
       " 'young',\n",
       " 'man',\n",
       " 'breaks',\n",
       " 'into',\n",
       " 'nurses',\n",
       " 'home',\n",
       " 'and',\n",
       " 'rapes',\n",
       " 'tortures',\n",
       " 'and',\n",
       " 'kills',\n",
       " 'various',\n",
       " 'women',\n",
       " 'br',\n",
       " 'br',\n",
       " 'it',\n",
       " 'is',\n",
       " 'in',\n",
       " 'black',\n",
       " 'and',\n",
       " 'white',\n",
       " 'but',\n",
       " 'saves',\n",
       " 'the',\n",
       " 'colour',\n",
       " 'for',\n",
       " 'one',\n",
       " 'shocking',\n",
       " 'shot',\n",
       " 'br',\n",
       " 'br',\n",
       " 'at',\n",
       " 'the',\n",
       " 'end',\n",
       " 'the',\n",
       " 'film',\n",
       " 'seems',\n",
       " 'to',\n",
       " 'be',\n",
       " 'trying',\n",
       " 'to',\n",
       " 'make',\n",
       " 'some',\n",
       " 'political',\n",
       " 'statement',\n",
       " 'but',\n",
       " 'it',\n",
       " 'just',\n",
       " 'comes',\n",
       " 'across',\n",
       " 'as',\n",
       " 'confused',\n",
       " 'and',\n",
       " 'obscene',\n",
       " 'br',\n",
       " 'br',\n",
       " 'avoid']"
      ]
     },
     "execution_count": 28,
     "metadata": {},
     "output_type": "execute_result"
    }
   ],
   "source": [
    "print(len(document))\n",
    "document[1]"
   ]
  },
  {
   "cell_type": "code",
   "execution_count": 9,
   "metadata": {
    "scrolled": true
   },
   "outputs": [
    {
     "name": "stdout",
     "output_type": "stream",
     "text": [
      "84\n",
      "77\n",
      "257\n",
      "181\n",
      "223\n"
     ]
    }
   ],
   "source": [
    "for i in range(0,5):\n",
    "    print(len(document[i]))"
   ]
  },
  {
   "cell_type": "markdown",
   "metadata": {},
   "source": [
    "## 5. Building the Model"
   ]
  },
  {
   "cell_type": "code",
   "execution_count": 10,
   "metadata": {
    "collapsed": true
   },
   "outputs": [],
   "source": [
    "models = gensim.models.Word2Vec(document,        # Word List from this Moview Review\n",
    "                                min_count = 10,  # Ignoring all words with total frequency less than this\n",
    "                                workers = 4,     # No. of CPU\n",
    "                                size = 50,       # Embedding Size or Number of Neurons in Hidden Layer\n",
    "                                window = 5,      # Window size i.e. distance b/w target and predicted word\n",
    "                                iter = 10        # Nr. of iterations over text corpus\n",
    "                               )"
   ]
  },
  {
   "cell_type": "markdown",
   "metadata": {},
   "source": [
    "## 6. Exploring this Model"
   ]
  },
  {
   "cell_type": "markdown",
   "metadata": {},
   "source": [
    "### 6.1: How many words in this model and how many features"
   ]
  },
  {
   "cell_type": "code",
   "execution_count": 11,
   "metadata": {},
   "outputs": [
    {
     "data": {
      "text/plain": [
       "(28296, 50)"
      ]
     },
     "execution_count": 11,
     "metadata": {},
     "output_type": "execute_result"
    }
   ],
   "source": [
    "models.wv.syn0.shape"
   ]
  },
  {
   "cell_type": "markdown",
   "metadata": {},
   "source": [
    "Total **28296 Unique Words** with **50** being Embedding Size for each word"
   ]
  },
  {
   "cell_type": "markdown",
   "metadata": {},
   "source": [
    "### 6.2: Check embedding for few words"
   ]
  },
  {
   "cell_type": "code",
   "execution_count": 12,
   "metadata": {},
   "outputs": [
    {
     "name": "stdout",
     "output_type": "stream",
     "text": [
      "corners\n",
      "(50,)\n",
      "[-0.39633673  0.44438666  0.89777535  0.44823208  1.1148375   0.10569822\n",
      "  0.6082293  -0.7593212  -0.11106801 -0.1627698   0.8137228   0.17379336\n",
      " -0.76712847 -0.24044259 -0.2737206  -0.0738972   0.40022326  0.6022987\n",
      " -0.11943179 -0.3509242  -0.06732462 -0.31447652 -0.0326987   0.42322806\n",
      "  0.7605826  -0.7533247  -0.2905929   0.03535109 -0.560234   -0.12012697\n",
      " -0.7553748   0.7759355  -0.21933877 -0.6855406  -0.5031187   1.2833363\n",
      " -1.4988877   0.13597758 -0.16434838  0.31306145  0.03776871 -0.3210004\n",
      "  1.1199927   0.63208985  0.23819675  0.79684705 -0.04965817 -0.19406804\n",
      "  0.46531805  0.15397145]\n",
      "\n",
      "\n",
      "mission\n",
      "(50,)\n",
      "[ 1.3449875  -4.7788877  -0.97999185 -0.06148221  1.0675834   0.997927\n",
      " -1.0350229  -2.0736113  -0.9129141   2.8125808  -3.7255032   3.3612082\n",
      " -4.1711884   0.34536913 -1.6710721  -2.5815973  -2.2389278  -0.301874\n",
      "  0.96714693 -1.4479188  -0.58798414  0.53387904 -1.1217304  -1.5334201\n",
      "  0.02495835 -1.4147192  -0.23628467  3.1306515   2.7776928  -0.8262733\n",
      "  0.5772522   1.5032995  -0.553178   -0.37069216  2.5080354   0.80735046\n",
      " -1.1223134  -0.9351023  -1.4657106   0.2736997  -0.56750906 -1.2666857\n",
      "  1.7415994  -1.0803047   0.53498465  3.1845934  -1.5372609  -0.8609529\n",
      "  1.2093723   1.0844493 ]\n",
      "\n",
      "\n",
      "catastrophe\n",
      "(50,)\n",
      "[ 0.41315547 -0.5303344   0.39033756  0.07857317 -0.05970281  0.35256937\n",
      "  0.35256344 -0.49401054  0.5778521   0.1713931  -0.22279271  0.35075903\n",
      " -1.2399635  -0.57410353  0.34920138  0.12102755 -0.3805871  -0.75208783\n",
      " -0.55046874 -0.1917331   0.49366772 -0.42787662 -0.15196502  0.2033512\n",
      "  0.10427381 -0.09855661  0.23866677  0.01405025  0.01560213  0.4222876\n",
      " -0.25216267 -0.39249286 -0.21948062  0.36551633 -0.41233292  0.0350724\n",
      " -0.22147936 -0.54797965 -0.5347988  -0.17055695 -0.03355634 -0.3749286\n",
      "  0.39149278 -0.26571754 -0.43506917  1.0520066  -0.38118443  0.01292716\n",
      "  0.5429991  -0.7568743 ]\n",
      "\n",
      "\n"
     ]
    }
   ],
   "source": [
    "for i in ['corners', 'mission', 'catastrophe']:\n",
    "    print(i)\n",
    "    print(models.wv[i].shape)\n",
    "    print(models.wv[i])\n",
    "    print(\"\\n\")"
   ]
  },
  {
   "cell_type": "markdown",
   "metadata": {},
   "source": [
    "### 6.3: Checking similarity within words which is the [Cosine Distance](http://blog.christianperone.com/2013/09/machine-learning-cosine-similarity-for-vector-space-models-part-iii/)"
   ]
  },
  {
   "cell_type": "code",
   "execution_count": 13,
   "metadata": {},
   "outputs": [
    {
     "name": "stdout",
     "output_type": "stream",
     "text": [
      "0.903036533297916\n",
      "         0         1\n",
      "0    spain  0.903037\n",
      "1    italy  0.894695\n",
      "2  england  0.874963\n",
      "3    india  0.867579\n",
      "4   europe  0.852389\n",
      "5  austria  0.850607\n",
      "6  germany  0.837261\n",
      "7   greece  0.830938\n",
      "8    china  0.830494\n",
      "9   mexico  0.821382\n"
     ]
    },
    {
     "name": "stderr",
     "output_type": "stream",
     "text": [
      "C:\\Users\\Nivedit\\Anaconda3\\lib\\site-packages\\ipykernel_launcher.py:1: DeprecationWarning: Call to deprecated `similarity` (Method will be removed in 4.0.0, use self.wv.similarity() instead).\n",
      "  \"\"\"Entry point for launching an IPython kernel.\n"
     ]
    }
   ],
   "source": [
    "print(models.similarity('france', 'spain'))\n",
    "print(pd.DataFrame(models.wv.most_similar('france')))"
   ]
  },
  {
   "cell_type": "code",
   "execution_count": 14,
   "metadata": {},
   "outputs": [
    {
     "name": "stdout",
     "output_type": "stream",
     "text": [
      "10\n",
      "            0         1\n",
      "0    horrible  0.916432\n",
      "1    terrible  0.914484\n",
      "2      horrid  0.898579\n",
      "3    dreadful  0.864051\n",
      "4   atrocious  0.858949\n",
      "5   appalling  0.841604\n",
      "6  horrendous  0.838597\n",
      "7     abysmal  0.830067\n",
      "8       lousy  0.821724\n",
      "9         bad  0.786493\n"
     ]
    }
   ],
   "source": [
    "print(len(models.wv.most_similar('awful')))\n",
    "print(pd.DataFrame(models.wv.most_similar('awful')))"
   ]
  },
  {
   "cell_type": "markdown",
   "metadata": {},
   "source": [
    "### 6.4: Finding the word that doesn't match"
   ]
  },
  {
   "cell_type": "code",
   "execution_count": 15,
   "metadata": {},
   "outputs": [
    {
     "data": {
      "text/plain": [
       "'corners'"
      ]
     },
     "execution_count": 15,
     "metadata": {},
     "output_type": "execute_result"
    }
   ],
   "source": [
    "models.wv.doesnt_match('man woman child corners'.split())"
   ]
  },
  {
   "cell_type": "markdown",
   "metadata": {},
   "source": [
    "1. Equation -> king + man = queen + ?\n",
    "2. Here it might not be enough data for this question"
   ]
  },
  {
   "cell_type": "code",
   "execution_count": 16,
   "metadata": {},
   "outputs": [
    {
     "name": "stderr",
     "output_type": "stream",
     "text": [
      "C:\\Users\\Nivedit\\Anaconda3\\lib\\site-packages\\ipykernel_launcher.py:1: DeprecationWarning: Call to deprecated `most_similar` (Method will be removed in 4.0.0, use self.wv.most_similar() instead).\n",
      "  \"\"\"Entry point for launching an IPython kernel.\n"
     ]
    },
    {
     "data": {
      "text/plain": [
       "[('joker', 0.5858485102653503),\n",
       " ('batman', 0.5770583748817444),\n",
       " ('himself', 0.565791666507721),\n",
       " ('bookie', 0.5232667326927185),\n",
       " ('ness', 0.5195457935333252),\n",
       " ('mastermind', 0.5087444186210632),\n",
       " ('scientist', 0.501668393611908),\n",
       " ('tong', 0.4956737756729126),\n",
       " ('soldier', 0.48960307240486145),\n",
       " ('golgo', 0.48884761333465576)]"
      ]
     },
     "execution_count": 16,
     "metadata": {},
     "output_type": "execute_result"
    }
   ],
   "source": [
    "models.most_similar(positive=['king','man'], negative=['queen'])"
   ]
  },
  {
   "cell_type": "markdown",
   "metadata": {},
   "source": [
    "Storing this in an Object so as to save memory"
   ]
  },
  {
   "cell_type": "code",
   "execution_count": 17,
   "metadata": {
    "collapsed": true
   },
   "outputs": [],
   "source": [
    "word2_vec = models.wv"
   ]
  },
  {
   "cell_type": "code",
   "execution_count": 18,
   "metadata": {},
   "outputs": [
    {
     "data": {
      "text/plain": [
       "['watching',\n",
       " 'time',\n",
       " 'chasers',\n",
       " 'it',\n",
       " 'obvious',\n",
       " 'that',\n",
       " 'was',\n",
       " 'made',\n",
       " 'by',\n",
       " 'bunch']"
      ]
     },
     "execution_count": 18,
     "metadata": {},
     "output_type": "execute_result"
    }
   ],
   "source": [
    "# Getting Vocabulary as we got from this model and store in list\n",
    "words = list(word2_vec.vocab)\n",
    "len(words)\n",
    "words[:10]"
   ]
  },
  {
   "cell_type": "markdown",
   "metadata": {},
   "source": [
    "## 7. Visualize Word Embedding"
   ]
  },
  {
   "cell_type": "code",
   "execution_count": 19,
   "metadata": {},
   "outputs": [
    {
     "name": "stderr",
     "output_type": "stream",
     "text": [
      "C:\\Users\\Nivedit\\Anaconda3\\lib\\site-packages\\ipykernel_launcher.py:1: DeprecationWarning: Call to deprecated `__getitem__` (Method will be removed in 4.0.0, use self.wv.__getitem__() instead).\n",
      "  \"\"\"Entry point for launching an IPython kernel.\n"
     ]
    }
   ],
   "source": [
    "X = models[word2_vec.vocab]"
   ]
  },
  {
   "cell_type": "markdown",
   "metadata": {},
   "source": [
    "### 7.1: Using PCA to convert this High-dimensional word-vectors into 2-D vectors to plot them on graph"
   ]
  },
  {
   "cell_type": "code",
   "execution_count": 20,
   "metadata": {
    "collapsed": true
   },
   "outputs": [],
   "source": [
    "from sklearn.decomposition import PCA\n",
    "import matplotlib.pyplot as plt\n",
    "%matplotlib inline"
   ]
  },
  {
   "cell_type": "code",
   "execution_count": 21,
   "metadata": {
    "collapsed": true
   },
   "outputs": [],
   "source": [
    "# For PCA with 2 Principal Component Vectors\n",
    "pca = PCA(n_components=2)"
   ]
  },
  {
   "cell_type": "code",
   "execution_count": 22,
   "metadata": {
    "collapsed": true
   },
   "outputs": [],
   "source": [
    "# Fit and transform on X which is embedding for all Unique Words in Vocabulary\n",
    "result = pca.fit_transform(X)"
   ]
  },
  {
   "cell_type": "code",
   "execution_count": 23,
   "metadata": {},
   "outputs": [
    {
     "data": {
      "text/plain": [
       "(28296, 2)"
      ]
     },
     "execution_count": 23,
     "metadata": {},
     "output_type": "execute_result"
    }
   ],
   "source": [
    "result.shape"
   ]
  },
  {
   "cell_type": "code",
   "execution_count": 24,
   "metadata": {},
   "outputs": [
    {
     "data": {
      "text/plain": [
       "array([[ 7.969088  , -0.4860724 ],\n",
       "       [ 7.5594006 , -1.742764  ],\n",
       "       [ 0.10338181,  0.24821894],\n",
       "       ...,\n",
       "       [-0.26446548,  0.23325507],\n",
       "       [-0.15464874, -0.31300822],\n",
       "       [ 0.01133692,  0.15355891]], dtype=float32)"
      ]
     },
     "execution_count": 24,
     "metadata": {},
     "output_type": "execute_result"
    }
   ],
   "source": [
    "result"
   ]
  },
  {
   "cell_type": "markdown",
   "metadata": {},
   "source": [
    "### 7.2: Checking for all these PCA vectors as plotted"
   ]
  },
  {
   "cell_type": "code",
   "execution_count": 25,
   "metadata": {},
   "outputs": [
    {
     "data": {
      "text/plain": [
       "<matplotlib.collections.PathCollection at 0x203e96be438>"
      ]
     },
     "execution_count": 25,
     "metadata": {},
     "output_type": "execute_result"
    },
    {
     "data": {
      "image/png": "[encoded data removed]",
      "text/plain": [
       "<matplotlib.figure.Figure at 0x203e94e0c88>"
      ]
     },
     "metadata": {},
     "output_type": "display_data"
    }
   ],
   "source": [
    "plt.figure(figsize=(20,5))\n",
    "plt.scatter(x=result[:,0], y=result[:,1])"
   ]
  },
  {
   "cell_type": "code",
   "execution_count": 26,
   "metadata": {
    "scrolled": false
   },
   "outputs": [
    {
     "data": {
      "image/png": "[encoded data removed]",
      "text/plain": [
       "<matplotlib.figure.Figure at 0x203e9a47ef0>"
      ]
     },
     "metadata": {},
     "output_type": "display_data"
    }
   ],
   "source": [
    "plt.figure(figsize=(20,8))\n",
    "\n",
    "for i, word in enumerate(words[:150]):   # Plotting only till 150 Words to better understand the plottings\n",
    "    plt.scatter(x=result[i,0], y=result[i,1])\n",
    "    plt.annotate(word, xy=(result[i,0], result[i,1]))\n",
    "\n",
    "plt.show()"
   ]
  },
  {
   "cell_type": "markdown",
   "metadata": {},
   "source": [
    "### 7.4: Observations:\n",
    "1. Near to Top-Right corner, words like **'music', 'script', 'acting', 'film', 'cinematography'** are close to each other\n",
    "2. Similarly, near to Bottom-Left corner, words like **'kills', 'murdered'** are again close\n",
    "3. Like this, there are various similar words close & words in opposite meanings are far\n",
    "    - On bottom-left corner, words like **'man', 'husband', 'his'** are close while, **'women'** is far\n",
    "    - **'black', 'white'** are seen placed near\n",
    "    - **'travel', 'friends'** are also placed near"
   ]
  },
  {
   "cell_type": "markdown",
   "metadata": {},
   "source": [
    "# 8. Loading Google's Word2Vec Pre-trained Word-Embedding\n",
    "#### Trained on approx. 100 Billion Words from Google's News Data, to finally have 3 Million Words/Phrases with 300 as Embedding Size"
   ]
  },
  {
   "cell_type": "code",
   "execution_count": 29,
   "metadata": {
    "collapsed": true
   },
   "outputs": [],
   "source": [
    "filename = r\"Z:/Career/DataScientist/Google_Word2Vec/GoogleNews-vectors-negative300.bin\""
   ]
  },
  {
   "cell_type": "code",
   "execution_count": 30,
   "metadata": {
    "collapsed": true
   },
   "outputs": [],
   "source": [
    "goog_w2v_model = gensim.models.KeyedVectors.load_word2vec_format(filename, binary=True)"
   ]
  },
  {
   "cell_type": "code",
   "execution_count": 31,
   "metadata": {},
   "outputs": [
    {
     "data": {
      "text/plain": [
       "3000000"
      ]
     },
     "execution_count": 31,
     "metadata": {},
     "output_type": "execute_result"
    }
   ],
   "source": [
    "# Checking count of total unique words whih sohuld be 3 million\n",
    "len(goog_w2v_model.vocab)"
   ]
  },
  {
   "cell_type": "code",
   "execution_count": 32,
   "metadata": {
    "collapsed": true
   },
   "outputs": [],
   "source": [
    "goog_model = goog_w2v_model.wv"
   ]
  },
  {
   "cell_type": "code",
   "execution_count": 33,
   "metadata": {
    "collapsed": true
   },
   "outputs": [],
   "source": [
    "del(goog_w2v_model)"
   ]
  },
  {
   "cell_type": "code",
   "execution_count": 34,
   "metadata": {},
   "outputs": [
    {
     "data": {
      "text/plain": [
       "['</s>', 'in', 'for', 'that', 'is', 'on', '##', 'The', 'with', 'said']"
      ]
     },
     "execution_count": 34,
     "metadata": {},
     "output_type": "execute_result"
    }
   ],
   "source": [
    "# Storing all these Unique words in a list\n",
    "goog_vocab_list = list(goog_model.vocab)\n",
    "goog_vocab_list[:10]"
   ]
  },
  {
   "cell_type": "code",
   "execution_count": 35,
   "metadata": {
    "scrolled": true
   },
   "outputs": [
    {
     "name": "stdout",
     "output_type": "stream",
     "text": [
      "300\n",
      "[ 0.30664062  0.16308594 -0.12988281  0.26171875  0.11132812  0.04443359\n",
      "  0.26171875 -0.41210938  0.15234375  0.18554688 -0.04272461 -0.16503906\n",
      " -0.34960938  0.0546875  -0.234375   -0.02416992  0.16503906 -0.12109375\n",
      "  0.02441406 -0.18066406]\n"
     ]
    }
   ],
   "source": [
    "# Just checking Embeddings for a random word\n",
    "print(len(goog_model['phoenix']))\n",
    "print(goog_model['phoenix'][:20])  # Checking first 20 embedding since toal count is 300"
   ]
  }
 ],
 "metadata": {
  "kernelspec": {
   "display_name": "Python 3",
   "language": "python",
   "name": "python3"
  },
  "language_info": {
   "codemirror_mode": {
    "name": "ipython",
    "version": 3
   },
   "file_extension": ".py",
   "mimetype": "text/x-python",
   "name": "python",
   "nbconvert_exporter": "python",
   "pygments_lexer": "ipython3",
   "version": "3.6.1"
  }
 },
 "nbformat": 4,
 "nbformat_minor": 2
}
