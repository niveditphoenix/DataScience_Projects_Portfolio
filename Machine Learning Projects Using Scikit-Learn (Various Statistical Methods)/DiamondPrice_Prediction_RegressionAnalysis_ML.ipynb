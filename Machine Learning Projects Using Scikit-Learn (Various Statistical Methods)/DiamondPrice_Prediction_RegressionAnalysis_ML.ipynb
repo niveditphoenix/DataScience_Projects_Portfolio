{
 "cells": [
  {
   "cell_type": "markdown",
   "metadata": {},
   "source": [
    "# Machine Learning Project - Regression"
   ]
  },
  {
   "cell_type": "markdown",
   "metadata": {},
   "source": [
    "### Diamond Price Prediction basis labelled Data for close to 54000 Daimonds with price and other attributes."
   ]
  },
  {
   "cell_type": "markdown",
   "metadata": {},
   "source": [
    "This Project is based on Regression Analysis using Machine-Learning framework to predict the Price of Diamond.\n",
    "\n",
    "We have used here 3 main SKLEARN Regressor algorithms viz. Linear Regression (with Polymonial for Degree 1 and 2), Decision Tree & Random Forest. Parameters to understand the \n",
    "\n",
    "For best Hyper-Parameters within each of these applied algorithms, have used GirdSearhCV functionality to get best results basis range of parameters.\n",
    "\n",
    "RMSE and R2-Score as metrics have been evaluated for each model to choose the best applied logic.\n",
    "\n",
    "Data, as a CSV file, is labelled with Prices (as Target or Dependent Variable) and below defined attributes (as Input or Independent Variables), comprising of Continuous and Categorical features.\n",
    "\n",
    "The properties of these features (along with Price) are:\n",
    "\n",
    "**Continuous Variables :**\n",
    "1. Price : Price in USD {326 - 18,823}\n",
    "2. Carat : Weight of the Diamond (0.2 - 5.01)\n",
    "3. x : Length in mm (0 - 10.74)\n",
    "4. y : Width in mm (0 - 58.9)\n",
    "5. z : Depth in mm (0 - 31.8)\n",
    "6. Depth : Total Depth Percentage = z/mean(x,y) : {43 - 79}\n",
    "7. Table : Width of top of diamond relative to widest point {43 - 95}\n",
    "\n",
    "**Categorical Variables :** *** These are actually Ordinal variables, since their classification means a proper order***\n",
    "1. Cut : Quality of the cut {Fair, Good, Very Good, Premium, Ideal}\n",
    "2. Color : Color of Diamond {from J being Worst to D as Best}\n",
    "3. Clarity : Metrics to know how clear the diamond is {I1 (worst), SI2, SI1, VS2, VS1, VVS2, VVS1, IF (best)}"
   ]
  },
  {
   "cell_type": "markdown",
   "metadata": {},
   "source": [
    "#### Approach\n",
    "1. Getting Libraries & Dependencies\n",
    "2. Data Colection and diving into it\n",
    "3. Data Processing for better hygiene\n",
    "4. Preparing X and Y to further segregate into Train and Test\n",
    "5. Invoking sklearn dependecies\n",
    "6. Linear Regression with degree 1 & 2\n",
    "7. Decision Tree\n",
    "8. Random Forest\n",
    "9. Conclusion\n",
    "\n",
    "**Let's kick off...!**"
   ]
  },
  {
   "cell_type": "markdown",
   "metadata": {
    "colab_type": "text",
    "id": "Y4NG8O9x5i1A"
   },
   "source": [
    "## 1. Getting Libraries & Dependencies"
   ]
  },
  {
   "cell_type": "code",
   "execution_count": 1,
   "metadata": {
    "colab": {
     "autoexec": {
      "startup": false,
      "wait_interval": 0
     }
    },
    "colab_type": "code",
    "collapsed": true,
    "id": "GmGm3azI5i1F"
   },
   "outputs": [],
   "source": [
    "import numpy as np\n",
    "import pandas as pd\n",
    "import matplotlib.pyplot as plt\n",
    "%matplotlib inline\n",
    "import datetime"
   ]
  },
  {
   "cell_type": "code",
   "execution_count": 2,
   "metadata": {
    "colab": {
     "autoexec": {
      "startup": false,
      "wait_interval": 0
     }
    },
    "colab_type": "code",
    "collapsed": true,
    "id": "TdmMAtIl5i1Z"
   },
   "outputs": [],
   "source": [
    "# To avoid PRINT at every line\n",
    "from IPython import InteractiveShell\n",
    "InteractiveShell.ast_node_interactivity = 'all'"
   ]
  },
  {
   "cell_type": "markdown",
   "metadata": {
    "colab_type": "text",
    "id": "EGtSlLQ25i1m"
   },
   "source": [
    "## 2. Data Collection"
   ]
  },
  {
   "cell_type": "code",
   "execution_count": 3,
   "metadata": {
    "colab": {
     "autoexec": {
      "startup": false,
      "wait_interval": 0
     }
    },
    "colab_type": "code",
    "collapsed": true,
    "id": "seVYtChz5i1q"
   },
   "outputs": [],
   "source": [
    "path = 'C:/Users/Nivedit/CreativeSpace/myWork/Github_Projects/ML/Diamond_Price_Prediction/'\n",
    "df = pd.read_csv(path + 'diamonds.csv', usecols=['carat','cut','color','clarity','depth','table','price','x','y','z'])"
   ]
  },
  {
   "cell_type": "code",
   "execution_count": 4,
   "metadata": {
    "colab": {
     "autoexec": {
      "startup": false,
      "wait_interval": 0
     },
     "base_uri": "https://localhost:8080/",
     "height": 221
    },
    "colab_type": "code",
    "executionInfo": {
     "elapsed": 1159,
     "status": "ok",
     "timestamp": 1524393228385,
     "user": {
      "displayName": "N B",
      "photoUrl": "https://lh3.googleusercontent.com/a/default-user=s128",
      "userId": "112072047363083880155"
     },
     "user_tz": -330
    },
    "id": "fHHZB2FF5i1y",
    "outputId": "63be4fe3-ead6-4965-b511-68320bfb7df2"
   },
   "outputs": [
    {
     "data": {
      "text/plain": [
       "(53940, 10)"
      ]
     },
     "execution_count": 4,
     "metadata": {},
     "output_type": "execute_result"
    },
    {
     "data": {
      "text/html": [
       "<div>\n",
       "<style>\n",
       "    .dataframe thead tr:only-child th {\n",
       "        text-align: right;\n",
       "    }\n",
       "\n",
       "    .dataframe thead th {\n",
       "        text-align: left;\n",
       "    }\n",
       "\n",
       "    .dataframe tbody tr th {\n",
       "        vertical-align: top;\n",
       "    }\n",
       "</style>\n",
       "<table border=\"1\" class=\"dataframe\">\n",
       "  <thead>\n",
       "    <tr style=\"text-align: right;\">\n",
       "      <th></th>\n",
       "      <th>carat</th>\n",
       "      <th>cut</th>\n",
       "      <th>color</th>\n",
       "      <th>clarity</th>\n",
       "      <th>depth</th>\n",
       "      <th>table</th>\n",
       "      <th>price</th>\n",
       "      <th>x</th>\n",
       "      <th>y</th>\n",
       "      <th>z</th>\n",
       "    </tr>\n",
       "  </thead>\n",
       "  <tbody>\n",
       "    <tr>\n",
       "      <th>0</th>\n",
       "      <td>0.23</td>\n",
       "      <td>Ideal</td>\n",
       "      <td>E</td>\n",
       "      <td>SI2</td>\n",
       "      <td>61.5</td>\n",
       "      <td>55.0</td>\n",
       "      <td>326</td>\n",
       "      <td>3.95</td>\n",
       "      <td>3.98</td>\n",
       "      <td>2.43</td>\n",
       "    </tr>\n",
       "    <tr>\n",
       "      <th>1</th>\n",
       "      <td>0.21</td>\n",
       "      <td>Premium</td>\n",
       "      <td>E</td>\n",
       "      <td>SI1</td>\n",
       "      <td>59.8</td>\n",
       "      <td>61.0</td>\n",
       "      <td>326</td>\n",
       "      <td>3.89</td>\n",
       "      <td>3.84</td>\n",
       "      <td>2.31</td>\n",
       "    </tr>\n",
       "    <tr>\n",
       "      <th>2</th>\n",
       "      <td>0.23</td>\n",
       "      <td>Good</td>\n",
       "      <td>E</td>\n",
       "      <td>VS1</td>\n",
       "      <td>56.9</td>\n",
       "      <td>65.0</td>\n",
       "      <td>327</td>\n",
       "      <td>4.05</td>\n",
       "      <td>4.07</td>\n",
       "      <td>2.31</td>\n",
       "    </tr>\n",
       "    <tr>\n",
       "      <th>3</th>\n",
       "      <td>0.29</td>\n",
       "      <td>Premium</td>\n",
       "      <td>I</td>\n",
       "      <td>VS2</td>\n",
       "      <td>62.4</td>\n",
       "      <td>58.0</td>\n",
       "      <td>334</td>\n",
       "      <td>4.20</td>\n",
       "      <td>4.23</td>\n",
       "      <td>2.63</td>\n",
       "    </tr>\n",
       "    <tr>\n",
       "      <th>4</th>\n",
       "      <td>0.31</td>\n",
       "      <td>Good</td>\n",
       "      <td>J</td>\n",
       "      <td>SI2</td>\n",
       "      <td>63.3</td>\n",
       "      <td>58.0</td>\n",
       "      <td>335</td>\n",
       "      <td>4.34</td>\n",
       "      <td>4.35</td>\n",
       "      <td>2.75</td>\n",
       "    </tr>\n",
       "  </tbody>\n",
       "</table>\n",
       "</div>"
      ],
      "text/plain": [
       "   carat      cut color clarity  depth  table  price     x     y     z\n",
       "0   0.23    Ideal     E     SI2   61.5   55.0    326  3.95  3.98  2.43\n",
       "1   0.21  Premium     E     SI1   59.8   61.0    326  3.89  3.84  2.31\n",
       "2   0.23     Good     E     VS1   56.9   65.0    327  4.05  4.07  2.31\n",
       "3   0.29  Premium     I     VS2   62.4   58.0    334  4.20  4.23  2.63\n",
       "4   0.31     Good     J     SI2   63.3   58.0    335  4.34  4.35  2.75"
      ]
     },
     "execution_count": 4,
     "metadata": {},
     "output_type": "execute_result"
    }
   ],
   "source": [
    "df.shape\n",
    "df.head()"
   ]
  },
  {
   "cell_type": "code",
   "execution_count": 5,
   "metadata": {
    "colab": {
     "autoexec": {
      "startup": false,
      "wait_interval": 0
     },
     "base_uri": "https://localhost:8080/",
     "height": 272
    },
    "colab_type": "code",
    "executionInfo": {
     "elapsed": 992,
     "status": "ok",
     "timestamp": 1524393230512,
     "user": {
      "displayName": "N B",
      "photoUrl": "https://lh3.googleusercontent.com/a/default-user=s128",
      "userId": "112072047363083880155"
     },
     "user_tz": -330
    },
    "id": "DJumkv035i2O",
    "outputId": "16cc9299-a1d8-4682-87df-0b08084f6421"
   },
   "outputs": [
    {
     "name": "stdout",
     "output_type": "stream",
     "text": [
      "<class 'pandas.core.frame.DataFrame'>\n",
      "RangeIndex: 53940 entries, 0 to 53939\n",
      "Data columns (total 10 columns):\n",
      "carat      53940 non-null float64\n",
      "cut        53940 non-null object\n",
      "color      53940 non-null object\n",
      "clarity    53940 non-null object\n",
      "depth      53940 non-null float64\n",
      "table      53940 non-null float64\n",
      "price      53940 non-null int64\n",
      "x          53940 non-null float64\n",
      "y          53940 non-null float64\n",
      "z          53940 non-null float64\n",
      "dtypes: float64(6), int64(1), object(3)\n",
      "memory usage: 4.1+ MB\n"
     ]
    }
   ],
   "source": [
    "df.info()"
   ]
  },
  {
   "cell_type": "code",
   "execution_count": 6,
   "metadata": {},
   "outputs": [
    {
     "data": {
      "text/html": [
       "<div>\n",
       "<style>\n",
       "    .dataframe thead tr:only-child th {\n",
       "        text-align: right;\n",
       "    }\n",
       "\n",
       "    .dataframe thead th {\n",
       "        text-align: left;\n",
       "    }\n",
       "\n",
       "    .dataframe tbody tr th {\n",
       "        vertical-align: top;\n",
       "    }\n",
       "</style>\n",
       "<table border=\"1\" class=\"dataframe\">\n",
       "  <thead>\n",
       "    <tr style=\"text-align: right;\">\n",
       "      <th></th>\n",
       "      <th>carat</th>\n",
       "      <th>depth</th>\n",
       "      <th>table</th>\n",
       "      <th>price</th>\n",
       "      <th>x</th>\n",
       "      <th>y</th>\n",
       "      <th>z</th>\n",
       "    </tr>\n",
       "  </thead>\n",
       "  <tbody>\n",
       "    <tr>\n",
       "      <th>count</th>\n",
       "      <td>53940.000000</td>\n",
       "      <td>53940.000000</td>\n",
       "      <td>53940.000000</td>\n",
       "      <td>53940.000000</td>\n",
       "      <td>53940.000000</td>\n",
       "      <td>53940.000000</td>\n",
       "      <td>53940.000000</td>\n",
       "    </tr>\n",
       "    <tr>\n",
       "      <th>mean</th>\n",
       "      <td>0.797940</td>\n",
       "      <td>61.749405</td>\n",
       "      <td>57.457184</td>\n",
       "      <td>3932.799722</td>\n",
       "      <td>5.731157</td>\n",
       "      <td>5.734526</td>\n",
       "      <td>3.538734</td>\n",
       "    </tr>\n",
       "    <tr>\n",
       "      <th>std</th>\n",
       "      <td>0.474011</td>\n",
       "      <td>1.432621</td>\n",
       "      <td>2.234491</td>\n",
       "      <td>3989.439738</td>\n",
       "      <td>1.121761</td>\n",
       "      <td>1.142135</td>\n",
       "      <td>0.705699</td>\n",
       "    </tr>\n",
       "    <tr>\n",
       "      <th>min</th>\n",
       "      <td>0.200000</td>\n",
       "      <td>43.000000</td>\n",
       "      <td>43.000000</td>\n",
       "      <td>326.000000</td>\n",
       "      <td>0.000000</td>\n",
       "      <td>0.000000</td>\n",
       "      <td>0.000000</td>\n",
       "    </tr>\n",
       "    <tr>\n",
       "      <th>25%</th>\n",
       "      <td>0.400000</td>\n",
       "      <td>61.000000</td>\n",
       "      <td>56.000000</td>\n",
       "      <td>950.000000</td>\n",
       "      <td>4.710000</td>\n",
       "      <td>4.720000</td>\n",
       "      <td>2.910000</td>\n",
       "    </tr>\n",
       "    <tr>\n",
       "      <th>50%</th>\n",
       "      <td>0.700000</td>\n",
       "      <td>61.800000</td>\n",
       "      <td>57.000000</td>\n",
       "      <td>2401.000000</td>\n",
       "      <td>5.700000</td>\n",
       "      <td>5.710000</td>\n",
       "      <td>3.530000</td>\n",
       "    </tr>\n",
       "    <tr>\n",
       "      <th>75%</th>\n",
       "      <td>1.040000</td>\n",
       "      <td>62.500000</td>\n",
       "      <td>59.000000</td>\n",
       "      <td>5324.250000</td>\n",
       "      <td>6.540000</td>\n",
       "      <td>6.540000</td>\n",
       "      <td>4.040000</td>\n",
       "    </tr>\n",
       "    <tr>\n",
       "      <th>max</th>\n",
       "      <td>5.010000</td>\n",
       "      <td>79.000000</td>\n",
       "      <td>95.000000</td>\n",
       "      <td>18823.000000</td>\n",
       "      <td>10.740000</td>\n",
       "      <td>58.900000</td>\n",
       "      <td>31.800000</td>\n",
       "    </tr>\n",
       "  </tbody>\n",
       "</table>\n",
       "</div>"
      ],
      "text/plain": [
       "              carat         depth         table         price             x  \\\n",
       "count  53940.000000  53940.000000  53940.000000  53940.000000  53940.000000   \n",
       "mean       0.797940     61.749405     57.457184   3932.799722      5.731157   \n",
       "std        0.474011      1.432621      2.234491   3989.439738      1.121761   \n",
       "min        0.200000     43.000000     43.000000    326.000000      0.000000   \n",
       "25%        0.400000     61.000000     56.000000    950.000000      4.710000   \n",
       "50%        0.700000     61.800000     57.000000   2401.000000      5.700000   \n",
       "75%        1.040000     62.500000     59.000000   5324.250000      6.540000   \n",
       "max        5.010000     79.000000     95.000000  18823.000000     10.740000   \n",
       "\n",
       "                  y             z  \n",
       "count  53940.000000  53940.000000  \n",
       "mean       5.734526      3.538734  \n",
       "std        1.142135      0.705699  \n",
       "min        0.000000      0.000000  \n",
       "25%        4.720000      2.910000  \n",
       "50%        5.710000      3.530000  \n",
       "75%        6.540000      4.040000  \n",
       "max       58.900000     31.800000  "
      ]
     },
     "execution_count": 6,
     "metadata": {},
     "output_type": "execute_result"
    }
   ],
   "source": [
    "df.describe()"
   ]
  },
  {
   "cell_type": "markdown",
   "metadata": {
    "colab_type": "text",
    "id": "mCm9iv8V5i2g"
   },
   "source": [
    "## 3. Data Processing"
   ]
  },
  {
   "cell_type": "markdown",
   "metadata": {
    "colab_type": "text",
    "id": "NbRmDqNE5i2k"
   },
   "source": [
    "### Checking for Null"
   ]
  },
  {
   "cell_type": "code",
   "execution_count": 7,
   "metadata": {
    "colab": {
     "autoexec": {
      "startup": false,
      "wait_interval": 0
     },
     "base_uri": "https://localhost:8080/",
     "height": 204
    },
    "colab_type": "code",
    "executionInfo": {
     "elapsed": 950,
     "status": "ok",
     "timestamp": 1524393236282,
     "user": {
      "displayName": "N B",
      "photoUrl": "https://lh3.googleusercontent.com/a/default-user=s128",
      "userId": "112072047363083880155"
     },
     "user_tz": -330
    },
    "id": "EI63vIf-5i2n",
    "outputId": "e1870692-8a90-4116-c2ea-1b753886538d"
   },
   "outputs": [
    {
     "data": {
      "text/plain": [
       "carat      0\n",
       "cut        0\n",
       "color      0\n",
       "clarity    0\n",
       "depth      0\n",
       "table      0\n",
       "price      0\n",
       "x          0\n",
       "y          0\n",
       "z          0\n",
       "dtype: int64"
      ]
     },
     "execution_count": 7,
     "metadata": {},
     "output_type": "execute_result"
    }
   ],
   "source": [
    "df.isnull().sum()"
   ]
  },
  {
   "cell_type": "markdown",
   "metadata": {
    "colab_type": "text",
    "id": "tbJwbPUQ5i22"
   },
   "source": [
    "No Null Values"
   ]
  },
  {
   "cell_type": "markdown",
   "metadata": {
    "colab_type": "text",
    "id": "IeJN_KKi5i26"
   },
   "source": [
    "### Renaming Columns"
   ]
  },
  {
   "cell_type": "code",
   "execution_count": 8,
   "metadata": {
    "colab": {
     "autoexec": {
      "startup": false,
      "wait_interval": 0
     }
    },
    "colab_type": "code",
    "collapsed": true,
    "id": "2O0X2nXa5i2-"
   },
   "outputs": [],
   "source": [
    "df = df.rename(columns={'depth':'depth_pct', 'x':'length', 'y':'width', 'z':'depth'})"
   ]
  },
  {
   "cell_type": "code",
   "execution_count": 9,
   "metadata": {
    "colab": {
     "autoexec": {
      "startup": false,
      "wait_interval": 0
     },
     "base_uri": "https://localhost:8080/",
     "height": 204
    },
    "colab_type": "code",
    "executionInfo": {
     "elapsed": 848,
     "status": "ok",
     "timestamp": 1524393243754,
     "user": {
      "displayName": "N B",
      "photoUrl": "https://lh3.googleusercontent.com/a/default-user=s128",
      "userId": "112072047363083880155"
     },
     "user_tz": -330
    },
    "id": "g5B4tw6n5i3K",
    "outputId": "23d1f2ac-b560-4ef5-d6a3-dcd35fee7dd7"
   },
   "outputs": [
    {
     "data": {
      "text/html": [
       "<div>\n",
       "<style>\n",
       "    .dataframe thead tr:only-child th {\n",
       "        text-align: right;\n",
       "    }\n",
       "\n",
       "    .dataframe thead th {\n",
       "        text-align: left;\n",
       "    }\n",
       "\n",
       "    .dataframe tbody tr th {\n",
       "        vertical-align: top;\n",
       "    }\n",
       "</style>\n",
       "<table border=\"1\" class=\"dataframe\">\n",
       "  <thead>\n",
       "    <tr style=\"text-align: right;\">\n",
       "      <th></th>\n",
       "      <th>carat</th>\n",
       "      <th>cut</th>\n",
       "      <th>color</th>\n",
       "      <th>clarity</th>\n",
       "      <th>depth_pct</th>\n",
       "      <th>table</th>\n",
       "      <th>price</th>\n",
       "      <th>length</th>\n",
       "      <th>width</th>\n",
       "      <th>depth</th>\n",
       "    </tr>\n",
       "  </thead>\n",
       "  <tbody>\n",
       "    <tr>\n",
       "      <th>0</th>\n",
       "      <td>0.23</td>\n",
       "      <td>Ideal</td>\n",
       "      <td>E</td>\n",
       "      <td>SI2</td>\n",
       "      <td>61.5</td>\n",
       "      <td>55.0</td>\n",
       "      <td>326</td>\n",
       "      <td>3.95</td>\n",
       "      <td>3.98</td>\n",
       "      <td>2.43</td>\n",
       "    </tr>\n",
       "    <tr>\n",
       "      <th>1</th>\n",
       "      <td>0.21</td>\n",
       "      <td>Premium</td>\n",
       "      <td>E</td>\n",
       "      <td>SI1</td>\n",
       "      <td>59.8</td>\n",
       "      <td>61.0</td>\n",
       "      <td>326</td>\n",
       "      <td>3.89</td>\n",
       "      <td>3.84</td>\n",
       "      <td>2.31</td>\n",
       "    </tr>\n",
       "    <tr>\n",
       "      <th>2</th>\n",
       "      <td>0.23</td>\n",
       "      <td>Good</td>\n",
       "      <td>E</td>\n",
       "      <td>VS1</td>\n",
       "      <td>56.9</td>\n",
       "      <td>65.0</td>\n",
       "      <td>327</td>\n",
       "      <td>4.05</td>\n",
       "      <td>4.07</td>\n",
       "      <td>2.31</td>\n",
       "    </tr>\n",
       "    <tr>\n",
       "      <th>3</th>\n",
       "      <td>0.29</td>\n",
       "      <td>Premium</td>\n",
       "      <td>I</td>\n",
       "      <td>VS2</td>\n",
       "      <td>62.4</td>\n",
       "      <td>58.0</td>\n",
       "      <td>334</td>\n",
       "      <td>4.20</td>\n",
       "      <td>4.23</td>\n",
       "      <td>2.63</td>\n",
       "    </tr>\n",
       "    <tr>\n",
       "      <th>4</th>\n",
       "      <td>0.31</td>\n",
       "      <td>Good</td>\n",
       "      <td>J</td>\n",
       "      <td>SI2</td>\n",
       "      <td>63.3</td>\n",
       "      <td>58.0</td>\n",
       "      <td>335</td>\n",
       "      <td>4.34</td>\n",
       "      <td>4.35</td>\n",
       "      <td>2.75</td>\n",
       "    </tr>\n",
       "  </tbody>\n",
       "</table>\n",
       "</div>"
      ],
      "text/plain": [
       "   carat      cut color clarity  depth_pct  table  price  length  width  depth\n",
       "0   0.23    Ideal     E     SI2       61.5   55.0    326    3.95   3.98   2.43\n",
       "1   0.21  Premium     E     SI1       59.8   61.0    326    3.89   3.84   2.31\n",
       "2   0.23     Good     E     VS1       56.9   65.0    327    4.05   4.07   2.31\n",
       "3   0.29  Premium     I     VS2       62.4   58.0    334    4.20   4.23   2.63\n",
       "4   0.31     Good     J     SI2       63.3   58.0    335    4.34   4.35   2.75"
      ]
     },
     "execution_count": 9,
     "metadata": {},
     "output_type": "execute_result"
    }
   ],
   "source": [
    "df.head()"
   ]
  },
  {
   "cell_type": "markdown",
   "metadata": {},
   "source": [
    "#### Checking classification on all 3 Categorical / Ordinal Variables"
   ]
  },
  {
   "cell_type": "code",
   "execution_count": 10,
   "metadata": {
    "colab": {
     "autoexec": {
      "startup": false,
      "wait_interval": 0
     },
     "base_uri": "https://localhost:8080/",
     "height": 374
    },
    "colab_type": "code",
    "executionInfo": {
     "elapsed": 1289,
     "status": "ok",
     "timestamp": 1524393250279,
     "user": {
      "displayName": "N B",
      "photoUrl": "https://lh3.googleusercontent.com/a/default-user=s128",
      "userId": "112072047363083880155"
     },
     "user_tz": -330
    },
    "id": "0UBhzqRN5i30",
    "outputId": "99f2afca-3ffb-4695-ae81-e5e706ecbfe3"
   },
   "outputs": [
    {
     "data": {
      "text/plain": [
       "Fair          1610\n",
       "Good          4906\n",
       "Ideal        21551\n",
       "Premium      13791\n",
       "Very Good    12082\n",
       "Name: cut, dtype: int64"
      ]
     },
     "execution_count": 10,
     "metadata": {},
     "output_type": "execute_result"
    },
    {
     "data": {
      "text/plain": [
       "D     6775\n",
       "E     9797\n",
       "F     9542\n",
       "G    11292\n",
       "H     8304\n",
       "I     5422\n",
       "J     2808\n",
       "Name: color, dtype: int64"
      ]
     },
     "execution_count": 10,
     "metadata": {},
     "output_type": "execute_result"
    },
    {
     "data": {
      "text/plain": [
       "I1        741\n",
       "IF       1790\n",
       "SI1     13065\n",
       "SI2      9194\n",
       "VS1      8171\n",
       "VS2     12258\n",
       "VVS1     3655\n",
       "VVS2     5066\n",
       "Name: clarity, dtype: int64"
      ]
     },
     "execution_count": 10,
     "metadata": {},
     "output_type": "execute_result"
    }
   ],
   "source": [
    "for i in ['cut','color','clarity']:\n",
    "    df[i].value_counts().sort_index()"
   ]
  },
  {
   "cell_type": "markdown",
   "metadata": {
    "colab_type": "text",
    "id": "WfPZZbi_5i4e"
   },
   "source": [
    "### DummY Encoding to convert all Categorical Variables into Numericals"
   ]
  },
  {
   "cell_type": "code",
   "execution_count": 11,
   "metadata": {
    "colab": {
     "autoexec": {
      "startup": false,
      "wait_interval": 0
     }
    },
    "colab_type": "code",
    "collapsed": true,
    "id": "1CwhYd0L5i4h"
   },
   "outputs": [],
   "source": [
    "df_mod = pd.get_dummies(df, columns=['cut','color','clarity'], drop_first=True)"
   ]
  },
  {
   "cell_type": "code",
   "execution_count": 12,
   "metadata": {
    "colab": {
     "autoexec": {
      "startup": false,
      "wait_interval": 0
     },
     "base_uri": "https://localhost:8080/",
     "height": 191
    },
    "colab_type": "code",
    "executionInfo": {
     "elapsed": 1245,
     "status": "ok",
     "timestamp": 1524393275049,
     "user": {
      "displayName": "N B",
      "photoUrl": "https://lh3.googleusercontent.com/a/default-user=s128",
      "userId": "112072047363083880155"
     },
     "user_tz": -330
    },
    "id": "iVdF8Uj85i4z",
    "outputId": "a2e35a57-7b14-488d-e133-950ae292cbdd"
   },
   "outputs": [
    {
     "data": {
      "text/html": [
       "<div>\n",
       "<style>\n",
       "    .dataframe thead tr:only-child th {\n",
       "        text-align: right;\n",
       "    }\n",
       "\n",
       "    .dataframe thead th {\n",
       "        text-align: left;\n",
       "    }\n",
       "\n",
       "    .dataframe tbody tr th {\n",
       "        vertical-align: top;\n",
       "    }\n",
       "</style>\n",
       "<table border=\"1\" class=\"dataframe\">\n",
       "  <thead>\n",
       "    <tr style=\"text-align: right;\">\n",
       "      <th></th>\n",
       "      <th>carat</th>\n",
       "      <th>depth_pct</th>\n",
       "      <th>table</th>\n",
       "      <th>price</th>\n",
       "      <th>length</th>\n",
       "      <th>width</th>\n",
       "      <th>depth</th>\n",
       "      <th>cut_Good</th>\n",
       "      <th>cut_Ideal</th>\n",
       "      <th>cut_Premium</th>\n",
       "      <th>...</th>\n",
       "      <th>color_H</th>\n",
       "      <th>color_I</th>\n",
       "      <th>color_J</th>\n",
       "      <th>clarity_IF</th>\n",
       "      <th>clarity_SI1</th>\n",
       "      <th>clarity_SI2</th>\n",
       "      <th>clarity_VS1</th>\n",
       "      <th>clarity_VS2</th>\n",
       "      <th>clarity_VVS1</th>\n",
       "      <th>clarity_VVS2</th>\n",
       "    </tr>\n",
       "  </thead>\n",
       "  <tbody>\n",
       "    <tr>\n",
       "      <th>0</th>\n",
       "      <td>0.23</td>\n",
       "      <td>61.5</td>\n",
       "      <td>55.0</td>\n",
       "      <td>326</td>\n",
       "      <td>3.95</td>\n",
       "      <td>3.98</td>\n",
       "      <td>2.43</td>\n",
       "      <td>0</td>\n",
       "      <td>1</td>\n",
       "      <td>0</td>\n",
       "      <td>...</td>\n",
       "      <td>0</td>\n",
       "      <td>0</td>\n",
       "      <td>0</td>\n",
       "      <td>0</td>\n",
       "      <td>0</td>\n",
       "      <td>1</td>\n",
       "      <td>0</td>\n",
       "      <td>0</td>\n",
       "      <td>0</td>\n",
       "      <td>0</td>\n",
       "    </tr>\n",
       "    <tr>\n",
       "      <th>1</th>\n",
       "      <td>0.21</td>\n",
       "      <td>59.8</td>\n",
       "      <td>61.0</td>\n",
       "      <td>326</td>\n",
       "      <td>3.89</td>\n",
       "      <td>3.84</td>\n",
       "      <td>2.31</td>\n",
       "      <td>0</td>\n",
       "      <td>0</td>\n",
       "      <td>1</td>\n",
       "      <td>...</td>\n",
       "      <td>0</td>\n",
       "      <td>0</td>\n",
       "      <td>0</td>\n",
       "      <td>0</td>\n",
       "      <td>1</td>\n",
       "      <td>0</td>\n",
       "      <td>0</td>\n",
       "      <td>0</td>\n",
       "      <td>0</td>\n",
       "      <td>0</td>\n",
       "    </tr>\n",
       "    <tr>\n",
       "      <th>2</th>\n",
       "      <td>0.23</td>\n",
       "      <td>56.9</td>\n",
       "      <td>65.0</td>\n",
       "      <td>327</td>\n",
       "      <td>4.05</td>\n",
       "      <td>4.07</td>\n",
       "      <td>2.31</td>\n",
       "      <td>1</td>\n",
       "      <td>0</td>\n",
       "      <td>0</td>\n",
       "      <td>...</td>\n",
       "      <td>0</td>\n",
       "      <td>0</td>\n",
       "      <td>0</td>\n",
       "      <td>0</td>\n",
       "      <td>0</td>\n",
       "      <td>0</td>\n",
       "      <td>1</td>\n",
       "      <td>0</td>\n",
       "      <td>0</td>\n",
       "      <td>0</td>\n",
       "    </tr>\n",
       "  </tbody>\n",
       "</table>\n",
       "<p>3 rows × 24 columns</p>\n",
       "</div>"
      ],
      "text/plain": [
       "   carat  depth_pct  table  price  length  width  depth  cut_Good  cut_Ideal  \\\n",
       "0   0.23       61.5   55.0    326    3.95   3.98   2.43         0          1   \n",
       "1   0.21       59.8   61.0    326    3.89   3.84   2.31         0          0   \n",
       "2   0.23       56.9   65.0    327    4.05   4.07   2.31         1          0   \n",
       "\n",
       "   cut_Premium      ...       color_H  color_I  color_J  clarity_IF  \\\n",
       "0            0      ...             0        0        0           0   \n",
       "1            1      ...             0        0        0           0   \n",
       "2            0      ...             0        0        0           0   \n",
       "\n",
       "   clarity_SI1  clarity_SI2  clarity_VS1  clarity_VS2  clarity_VVS1  \\\n",
       "0            0            1            0            0             0   \n",
       "1            1            0            0            0             0   \n",
       "2            0            0            1            0             0   \n",
       "\n",
       "   clarity_VVS2  \n",
       "0             0  \n",
       "1             0  \n",
       "2             0  \n",
       "\n",
       "[3 rows x 24 columns]"
      ]
     },
     "execution_count": 12,
     "metadata": {},
     "output_type": "execute_result"
    }
   ],
   "source": [
    "df_mod.head(3)"
   ]
  },
  {
   "cell_type": "markdown",
   "metadata": {
    "colab_type": "text",
    "id": "3U9ELiFJ5i5O"
   },
   "source": [
    "## 4. X and Y"
   ]
  },
  {
   "cell_type": "code",
   "execution_count": 13,
   "metadata": {
    "colab": {
     "autoexec": {
      "startup": false,
      "wait_interval": 0
     }
    },
    "colab_type": "code",
    "collapsed": true,
    "id": "Acrxauzp5i5U"
   },
   "outputs": [],
   "source": [
    "Y = df_mod.price.values"
   ]
  },
  {
   "cell_type": "code",
   "execution_count": 14,
   "metadata": {
    "colab": {
     "autoexec": {
      "startup": false,
      "wait_interval": 0
     }
    },
    "colab_type": "code",
    "collapsed": true,
    "id": "hM4hWM8i5i5i"
   },
   "outputs": [],
   "source": [
    "X = df_mod.drop('price', axis=1)"
   ]
  },
  {
   "cell_type": "code",
   "execution_count": 15,
   "metadata": {
    "colab": {
     "autoexec": {
      "startup": false,
      "wait_interval": 0
     }
    },
    "colab_type": "code",
    "collapsed": true,
    "id": "i44GDlrb5i53"
   },
   "outputs": [],
   "source": [
    "X = X.values"
   ]
  },
  {
   "cell_type": "code",
   "execution_count": 16,
   "metadata": {
    "colab": {
     "autoexec": {
      "startup": false,
      "wait_interval": 0
     },
     "base_uri": "https://localhost:8080/",
     "height": 187
    },
    "colab_type": "code",
    "executionInfo": {
     "elapsed": 1185,
     "status": "ok",
     "timestamp": 1524393844255,
     "user": {
      "displayName": "N B",
      "photoUrl": "https://lh3.googleusercontent.com/a/default-user=s128",
      "userId": "112072047363083880155"
     },
     "user_tz": -330
    },
    "id": "WGR2XuJ-5i6g",
    "outputId": "731e4925-2a2d-4db4-a441-494ed6bac5af"
   },
   "outputs": [
    {
     "data": {
      "text/plain": [
       "(53940, 24)"
      ]
     },
     "execution_count": 16,
     "metadata": {},
     "output_type": "execute_result"
    },
    {
     "data": {
      "text/plain": [
       "(53940, 23)"
      ]
     },
     "execution_count": 16,
     "metadata": {},
     "output_type": "execute_result"
    },
    {
     "data": {
      "text/plain": [
       "array([[ 0.23, 61.5 , 55.  ,  3.95,  3.98,  2.43,  0.  ,  1.  ,  0.  ,\n",
       "         0.  ,  1.  ,  0.  ,  0.  ,  0.  ,  0.  ,  0.  ,  0.  ,  0.  ,\n",
       "         1.  ,  0.  ,  0.  ,  0.  ,  0.  ],\n",
       "       [ 0.21, 59.8 , 61.  ,  3.89,  3.84,  2.31,  0.  ,  0.  ,  1.  ,\n",
       "         0.  ,  1.  ,  0.  ,  0.  ,  0.  ,  0.  ,  0.  ,  0.  ,  1.  ,\n",
       "         0.  ,  0.  ,  0.  ,  0.  ,  0.  ]])"
      ]
     },
     "execution_count": 16,
     "metadata": {},
     "output_type": "execute_result"
    }
   ],
   "source": [
    "df_mod.shape\n",
    "X.shape\n",
    "X[:2]"
   ]
  },
  {
   "cell_type": "markdown",
   "metadata": {
    "colab_type": "text",
    "id": "XzrHBXZp5i67"
   },
   "source": [
    "### Train-Test Split"
   ]
  },
  {
   "cell_type": "code",
   "execution_count": 17,
   "metadata": {
    "colab": {
     "autoexec": {
      "startup": false,
      "wait_interval": 0
     }
    },
    "colab_type": "code",
    "collapsed": true,
    "id": "uwvelttB5i6_"
   },
   "outputs": [],
   "source": [
    "from sklearn.model_selection import train_test_split"
   ]
  },
  {
   "cell_type": "code",
   "execution_count": 18,
   "metadata": {
    "colab": {
     "autoexec": {
      "startup": false,
      "wait_interval": 0
     }
    },
    "colab_type": "code",
    "collapsed": true,
    "id": "vNAtxUzl5i7K"
   },
   "outputs": [],
   "source": [
    "trainX, testX, trainY, testY = train_test_split(X, Y, test_size=0.3, random_state=42)"
   ]
  },
  {
   "cell_type": "code",
   "execution_count": 19,
   "metadata": {
    "colab": {
     "autoexec": {
      "startup": false,
      "wait_interval": 0
     },
     "base_uri": "https://localhost:8080/",
     "height": 34
    },
    "colab_type": "code",
    "executionInfo": {
     "elapsed": 850,
     "status": "ok",
     "timestamp": 1524393314249,
     "user": {
      "displayName": "N B",
      "photoUrl": "https://lh3.googleusercontent.com/a/default-user=s128",
      "userId": "112072047363083880155"
     },
     "user_tz": -330
    },
    "id": "UqFqKPoB5i7W",
    "outputId": "99cf1de9-9812-4bc6-ec14-633264582d1a"
   },
   "outputs": [
    {
     "data": {
      "text/plain": [
       "(37758, 23)"
      ]
     },
     "execution_count": 19,
     "metadata": {},
     "output_type": "execute_result"
    },
    {
     "data": {
      "text/plain": [
       "(16182, 23)"
      ]
     },
     "execution_count": 19,
     "metadata": {},
     "output_type": "execute_result"
    },
    {
     "data": {
      "text/plain": [
       "(37758,)"
      ]
     },
     "execution_count": 19,
     "metadata": {},
     "output_type": "execute_result"
    },
    {
     "data": {
      "text/plain": [
       "(16182,)"
      ]
     },
     "execution_count": 19,
     "metadata": {},
     "output_type": "execute_result"
    },
    {
     "data": {
      "text/plain": [
       "(53940, 23)"
      ]
     },
     "execution_count": 19,
     "metadata": {},
     "output_type": "execute_result"
    },
    {
     "data": {
      "text/plain": [
       "(53940,)"
      ]
     },
     "execution_count": 19,
     "metadata": {},
     "output_type": "execute_result"
    }
   ],
   "source": [
    "for i in trainX, testX, trainY, testY, X, Y:\n",
    "    i.shape"
   ]
  },
  {
   "cell_type": "code",
   "execution_count": 20,
   "metadata": {
    "colab": {
     "autoexec": {
      "startup": false,
      "wait_interval": 0
     }
    },
    "colab_type": "code",
    "collapsed": true,
    "id": "vDHeWLHj5i7p"
   },
   "outputs": [],
   "source": [
    "from sklearn.preprocessing import MinMaxScaler, StandardScaler"
   ]
  },
  {
   "cell_type": "markdown",
   "metadata": {
    "colab_type": "text",
    "id": "C_3aB6tC5i75"
   },
   "source": [
    "### Applying MinMaxScaler"
   ]
  },
  {
   "cell_type": "code",
   "execution_count": 21,
   "metadata": {
    "colab": {
     "autoexec": {
      "startup": false,
      "wait_interval": 0
     }
    },
    "colab_type": "code",
    "collapsed": true,
    "id": "WVdvo9VI5i7_"
   },
   "outputs": [],
   "source": [
    "minmax = MinMaxScaler()"
   ]
  },
  {
   "cell_type": "code",
   "execution_count": 22,
   "metadata": {
    "colab": {
     "autoexec": {
      "startup": false,
      "wait_interval": 0
     }
    },
    "colab_type": "code",
    "collapsed": true,
    "id": "f4fIBH5J5i8I"
   },
   "outputs": [],
   "source": [
    "trainX_mm = minmax.fit_transform(trainX)\n",
    "testX_mm = minmax.transform(testX)"
   ]
  },
  {
   "cell_type": "code",
   "execution_count": 23,
   "metadata": {
    "colab": {
     "autoexec": {
      "startup": false,
      "wait_interval": 0
     },
     "base_uri": "https://localhost:8080/",
     "height": 136
    },
    "colab_type": "code",
    "executionInfo": {
     "elapsed": 1305,
     "status": "ok",
     "timestamp": 1524393865758,
     "user": {
      "displayName": "N B",
      "photoUrl": "https://lh3.googleusercontent.com/a/default-user=s128",
      "userId": "112072047363083880155"
     },
     "user_tz": -330
    },
    "id": "mOMdBFaM5i8U",
    "outputId": "d08b7c79-e2f8-4bc8-85c7-558727dd7d18"
   },
   "outputs": [
    {
     "data": {
      "text/plain": [
       "5.993595690633946"
      ]
     },
     "execution_count": 23,
     "metadata": {},
     "output_type": "execute_result"
    },
    {
     "data": {
      "text/plain": [
       "0.1955575957201868"
      ]
     },
     "execution_count": 23,
     "metadata": {},
     "output_type": "execute_result"
    },
    {
     "data": {
      "text/plain": [
       "16.65523569417057"
      ]
     },
     "execution_count": 23,
     "metadata": {},
     "output_type": "execute_result"
    },
    {
     "data": {
      "text/plain": [
       "0.3393092720600112"
      ]
     },
     "execution_count": 23,
     "metadata": {},
     "output_type": "execute_result"
    }
   ],
   "source": [
    "trainX.mean()\n",
    "trainX_mm.mean()\n",
    "trainX.std()\n",
    "trainX_mm.std()"
   ]
  },
  {
   "cell_type": "markdown",
   "metadata": {
    "colab_type": "text",
    "id": "o7nejVEk5i9c"
   },
   "source": [
    "### Applying StandardScaler since there is huge variation on X's variables b/w mean and Std Dev\n",
    "\n",
    "#### This will make Mean = 0 and Std-Dev = 1"
   ]
  },
  {
   "cell_type": "code",
   "execution_count": 24,
   "metadata": {
    "colab": {
     "autoexec": {
      "startup": false,
      "wait_interval": 0
     }
    },
    "colab_type": "code",
    "collapsed": true,
    "id": "e6c3pmyQ5i9t"
   },
   "outputs": [],
   "source": [
    "std = StandardScaler()"
   ]
  },
  {
   "cell_type": "code",
   "execution_count": 25,
   "metadata": {
    "colab": {
     "autoexec": {
      "startup": false,
      "wait_interval": 0
     }
    },
    "colab_type": "code",
    "collapsed": true,
    "id": "VfJ18f905i97"
   },
   "outputs": [],
   "source": [
    "trainX_std = std.fit_transform(trainX)  # Fitting on trainX only\n",
    "testX_std = std.transform(testX)"
   ]
  },
  {
   "cell_type": "code",
   "execution_count": 26,
   "metadata": {
    "colab": {
     "autoexec": {
      "startup": false,
      "wait_interval": 0
     },
     "base_uri": "https://localhost:8080/",
     "height": 136
    },
    "colab_type": "code",
    "executionInfo": {
     "elapsed": 1039,
     "status": "ok",
     "timestamp": 1524393882426,
     "user": {
      "displayName": "N B",
      "photoUrl": "https://lh3.googleusercontent.com/a/default-user=s128",
      "userId": "112072047363083880155"
     },
     "user_tz": -330
    },
    "id": "VFtaDRSo5i-H",
    "outputId": "03738b3f-02b1-4695-953b-29b29e69a1f3"
   },
   "outputs": [
    {
     "data": {
      "text/plain": [
       "5.993595690633946"
      ]
     },
     "execution_count": 26,
     "metadata": {},
     "output_type": "execute_result"
    },
    {
     "data": {
      "text/plain": [
       "1.4484406844777323e-14"
      ]
     },
     "execution_count": 26,
     "metadata": {},
     "output_type": "execute_result"
    },
    {
     "data": {
      "text/plain": [
       "16.65523569417057"
      ]
     },
     "execution_count": 26,
     "metadata": {},
     "output_type": "execute_result"
    },
    {
     "data": {
      "text/plain": [
       "1.000000000000018"
      ]
     },
     "execution_count": 26,
     "metadata": {},
     "output_type": "execute_result"
    }
   ],
   "source": [
    "trainX.mean()\n",
    "trainX_std.mean()\n",
    "trainX.std()\n",
    "trainX_std.std()"
   ]
  },
  {
   "cell_type": "markdown",
   "metadata": {
    "colab_type": "text",
    "id": "9MBgfzZp5i-Y"
   },
   "source": [
    "## 5. Invoking sklearn dependencies for models & metrics"
   ]
  },
  {
   "cell_type": "code",
   "execution_count": 27,
   "metadata": {
    "colab": {
     "autoexec": {
      "startup": false,
      "wait_interval": 0
     }
    },
    "colab_type": "code",
    "collapsed": true,
    "id": "ipIZqIbg5i-e"
   },
   "outputs": [],
   "source": [
    "from sklearn.linear_model import LinearRegression\n",
    "from sklearn.preprocessing import PolynomialFeatures\n",
    "from sklearn.tree import DecisionTreeRegressor\n",
    "from sklearn.ensemble import RandomForestRegressor\n",
    "\n",
    "from sklearn.model_selection import GridSearchCV\n",
    "from sklearn.metrics import r2_score, mean_squared_error"
   ]
  },
  {
   "cell_type": "markdown",
   "metadata": {
    "colab_type": "text",
    "id": "XCvb3Nmj5i-p"
   },
   "source": [
    "### Function to check Hyperparameters via GridSearchCV and FIT on various models basis passed model"
   ]
  },
  {
   "cell_type": "code",
   "execution_count": 50,
   "metadata": {
    "colab": {
     "autoexec": {
      "startup": false,
      "wait_interval": 0
     }
    },
    "colab_type": "code",
    "collapsed": true,
    "id": "9vJSUUsu5i-v"
   },
   "outputs": [],
   "source": [
    "def fun_GS(clf_name, clf, param, W):\n",
    "    if W == 0:  # For Minmax base\n",
    "        GS = GridSearchCV(clf, param, cv=5)\n",
    "        model = GS.fit(trainX_mm, trainY)\n",
    "        \n",
    "        pred_train = model.predict(trainX_mm)\n",
    "        pred_test = model.predict(testX_mm)\n",
    "        \n",
    "        score_train = r2_score(trainY, pred_train)\n",
    "        score_test = r2_score(testY, pred_test)\n",
    "        \n",
    "        RMSE_train = np.sqrt(mean_squared_error(trainY, pred_train))\n",
    "        RMSE_test = np.sqrt(mean_squared_error(testY, pred_test))\n",
    "        \n",
    "        print(\"For MinMax base transformed data:\")\n",
    "        print(\"For model {}, best parameters are: {}\".format(clf_name, model.best_params_))\n",
    "        print(\"Score on trainX for model {} is: {:.4f}\".format(clf_name, score_train))\n",
    "        print(\"Score on testX for model {} is: {:.4f}\".format(clf_name, score_test))\n",
    "        print(\"RMSE on trainX for model {} is: {:.4f}\".format(clf_name, RMSE_train))\n",
    "        print(\"RMSE on testX for model {} is: {:.4f}\".format(clf_name, RMSE_test))\n",
    "        print(\"\\n\")\n",
    "        \n",
    "    elif W == 1: # For StdScaler\n",
    "        GS = GridSearchCV(clf, param, cv=5)\n",
    "        model = GS.fit(trainX_std, trainY)\n",
    "        \n",
    "        pred_train = model.predict(trainX_std)\n",
    "        pred_test = model.predict(testX_std)\n",
    "        \n",
    "        score_train = r2_score(trainY, pred_train)\n",
    "        score_test = r2_score(testY, pred_test)\n",
    "        \n",
    "        RMSE_train = np.sqrt(mean_squared_error(trainY, pred_train))\n",
    "        RMSE_test = np.sqrt(mean_squared_error(testY, pred_test))\n",
    "        \n",
    "        print(\"For Standard Scaler base transformed data:\")\n",
    "        print(\"For model {}, best parameters are: {}\".format(clf_name, model.best_params_))\n",
    "        print(\"Score on trainX for model {} is: {:.4f}\".format(clf_name, score_train))\n",
    "        print(\"Score on testX for model {} is: {:.4f}\".format(clf_name, score_test))\n",
    "        print(\"RMSE on trainX for model {} is: {:.4f}\".format(clf_name, RMSE_train))\n",
    "        print(\"RMSE on testX for model {} is: {:.4f}\".format(clf_name, RMSE_test))"
   ]
  },
  {
   "cell_type": "markdown",
   "metadata": {
    "colab_type": "text",
    "id": "AzyDnpFm5i-_"
   },
   "source": [
    "## 6. Linear Regression with degree 1 & 2"
   ]
  },
  {
   "cell_type": "code",
   "execution_count": 29,
   "metadata": {
    "colab": {
     "autoexec": {
      "startup": false,
      "wait_interval": 0
     }
    },
    "colab_type": "code",
    "collapsed": true,
    "id": "mtX2Iq885i_B"
   },
   "outputs": [],
   "source": [
    "LR = LinearRegression()\n",
    "poly_2 = PolynomialFeatures(2)  # Checking with Order 2"
   ]
  },
  {
   "cell_type": "markdown",
   "metadata": {
    "colab_type": "text",
    "id": "KmIpEwe55i_K"
   },
   "source": [
    "### 6.1) MinMax LR with Degree 1 and 2"
   ]
  },
  {
   "cell_type": "markdown",
   "metadata": {
    "colab_type": "text",
    "id": "O8zYRxZU5i_P"
   },
   "source": [
    "#### Degree 1"
   ]
  },
  {
   "cell_type": "code",
   "execution_count": 30,
   "metadata": {
    "colab": {
     "autoexec": {
      "startup": false,
      "wait_interval": 0
     }
    },
    "colab_type": "code",
    "collapsed": true,
    "id": "HGD2zttQ5i_T"
   },
   "outputs": [],
   "source": [
    "# Degree 1\n",
    "LR_mm_1 = LR.fit(trainX_mm, trainY)"
   ]
  },
  {
   "cell_type": "code",
   "execution_count": 31,
   "metadata": {
    "colab": {
     "autoexec": {
      "startup": false,
      "wait_interval": 0
     }
    },
    "colab_type": "code",
    "collapsed": true,
    "id": "_VmeDmc05i_r"
   },
   "outputs": [],
   "source": [
    "# Predict\n",
    "pred_train_LR_mm_1 = LR_mm_1.predict(trainX_mm)\n",
    "pred_test_LR_mm_1 = LR_mm_1.predict(testX_mm)"
   ]
  },
  {
   "cell_type": "code",
   "execution_count": 32,
   "metadata": {
    "colab": {
     "autoexec": {
      "startup": false,
      "wait_interval": 0
     }
    },
    "colab_type": "code",
    "collapsed": true,
    "id": "tRoQHmPC5jAE"
   },
   "outputs": [],
   "source": [
    "# R2 Score\n",
    "score_train_LR_mm_1 = r2_score(trainY, pred_train_LR_mm_1)\n",
    "score_test_LR_mm_1 = r2_score(testY, pred_test_LR_mm_1)"
   ]
  },
  {
   "cell_type": "code",
   "execution_count": 33,
   "metadata": {
    "colab": {
     "autoexec": {
      "startup": false,
      "wait_interval": 0
     },
     "base_uri": "https://localhost:8080/",
     "height": 68
    },
    "colab_type": "code",
    "executionInfo": {
     "elapsed": 1114,
     "status": "ok",
     "timestamp": 1524393933638,
     "user": {
      "displayName": "N B",
      "photoUrl": "https://lh3.googleusercontent.com/a/default-user=s128",
      "userId": "112072047363083880155"
     },
     "user_tz": -330
    },
    "id": "fGI23ICY5jAt",
    "outputId": "d2b89184-8305-4c00-d91c-9964b9f2504f"
   },
   "outputs": [
    {
     "data": {
      "text/plain": [
       "0.9195976267987521"
      ]
     },
     "execution_count": 33,
     "metadata": {},
     "output_type": "execute_result"
    },
    {
     "data": {
      "text/plain": [
       "0.9201866914388086"
      ]
     },
     "execution_count": 33,
     "metadata": {},
     "output_type": "execute_result"
    }
   ],
   "source": [
    "score_train_LR_mm_1\n",
    "score_test_LR_mm_1"
   ]
  },
  {
   "cell_type": "code",
   "execution_count": 34,
   "metadata": {
    "colab": {
     "autoexec": {
      "startup": false,
      "wait_interval": 0
     }
    },
    "colab_type": "code",
    "collapsed": true,
    "id": "B6F3h1bq5jBW"
   },
   "outputs": [],
   "source": [
    "# RMSE\n",
    "RMSE_train_LR_mm_1 = np.sqrt(mean_squared_error(trainY, pred_train_LR_mm_1))\n",
    "RMSE_test_LR_mm_1 = np.sqrt(mean_squared_error(testY, pred_test_LR_mm_1))"
   ]
  },
  {
   "cell_type": "code",
   "execution_count": 35,
   "metadata": {
    "colab": {
     "autoexec": {
      "startup": false,
      "wait_interval": 0
     },
     "base_uri": "https://localhost:8080/",
     "height": 68
    },
    "colab_type": "code",
    "executionInfo": {
     "elapsed": 951,
     "status": "ok",
     "timestamp": 1524393943227,
     "user": {
      "displayName": "N B",
      "photoUrl": "https://lh3.googleusercontent.com/a/default-user=s128",
      "userId": "112072047363083880155"
     },
     "user_tz": -330
    },
    "id": "LIp1UrGl5jBj",
    "outputId": "f0bea5c7-dd38-4096-921a-00064873532a"
   },
   "outputs": [
    {
     "data": {
      "text/plain": [
       "1136.0202087749415"
      ]
     },
     "execution_count": 35,
     "metadata": {},
     "output_type": "execute_result"
    },
    {
     "data": {
      "text/plain": [
       "1115.6905645006914"
      ]
     },
     "execution_count": 35,
     "metadata": {},
     "output_type": "execute_result"
    }
   ],
   "source": [
    "RMSE_train_LR_mm_1\n",
    "RMSE_test_LR_mm_1"
   ]
  },
  {
   "cell_type": "markdown",
   "metadata": {
    "colab_type": "text",
    "id": "yemLtx5C5jCX"
   },
   "source": [
    "#### Degree 2"
   ]
  },
  {
   "cell_type": "code",
   "execution_count": 36,
   "metadata": {
    "colab": {
     "autoexec": {
      "startup": false,
      "wait_interval": 0
     }
    },
    "colab_type": "code",
    "collapsed": true,
    "id": "CNvQBIG75jCf"
   },
   "outputs": [],
   "source": [
    "# Fit and Transform for Degree 2 of trainX_mm and testX_mm\n",
    "trainX_mm_poly2 = poly_2.fit_transform(trainX_mm)\n",
    "testX_mm_poly2 = poly_2.transform(testX_mm)"
   ]
  },
  {
   "cell_type": "code",
   "execution_count": 37,
   "metadata": {
    "colab": {
     "autoexec": {
      "startup": false,
      "wait_interval": 0
     }
    },
    "colab_type": "code",
    "collapsed": true,
    "id": "mSgx7TM05jCy"
   },
   "outputs": [],
   "source": [
    "# Fitting LR for Degree 2\n",
    "LR_mm_2 = LR.fit(trainX_mm_poly2, trainY)"
   ]
  },
  {
   "cell_type": "code",
   "execution_count": 38,
   "metadata": {
    "colab": {
     "autoexec": {
      "startup": false,
      "wait_interval": 0
     }
    },
    "colab_type": "code",
    "collapsed": true,
    "id": "SYfzwL2a5jDJ"
   },
   "outputs": [],
   "source": [
    "# Predict\n",
    "pred_train_LR_mm_2 = LR_mm_2.predict(trainX_mm_poly2)\n",
    "pred_test_LR_mm_2 = LR_mm_2.predict(testX_mm_poly2)"
   ]
  },
  {
   "cell_type": "code",
   "execution_count": 39,
   "metadata": {
    "colab": {
     "autoexec": {
      "startup": false,
      "wait_interval": 0
     }
    },
    "colab_type": "code",
    "collapsed": true,
    "id": "vLwQDpXO5jDV"
   },
   "outputs": [],
   "source": [
    "# R2 Score\n",
    "score_train_LR_mm_2 = r2_score(trainY, pred_train_LR_mm_2)\n",
    "score_test_LR_mm_2 = r2_score(testY, pred_test_LR_mm_2)"
   ]
  },
  {
   "cell_type": "code",
   "execution_count": 40,
   "metadata": {
    "colab": {
     "autoexec": {
      "startup": false,
      "wait_interval": 0
     },
     "base_uri": "https://localhost:8080/",
     "height": 68
    },
    "colab_type": "code",
    "executionInfo": {
     "elapsed": 1123,
     "status": "ok",
     "timestamp": 1524393954368,
     "user": {
      "displayName": "N B",
      "photoUrl": "https://lh3.googleusercontent.com/a/default-user=s128",
      "userId": "112072047363083880155"
     },
     "user_tz": -330
    },
    "id": "YHqjeXIr5jDx",
    "outputId": "f7be24a5-fcc0-456f-824a-e074c15bce78"
   },
   "outputs": [
    {
     "data": {
      "text/plain": [
       "0.971791797448781"
      ]
     },
     "execution_count": 40,
     "metadata": {},
     "output_type": "execute_result"
    },
    {
     "data": {
      "text/plain": [
       "0.8888652981306491"
      ]
     },
     "execution_count": 40,
     "metadata": {},
     "output_type": "execute_result"
    }
   ],
   "source": [
    "score_train_LR_mm_2\n",
    "score_test_LR_mm_2"
   ]
  },
  {
   "cell_type": "code",
   "execution_count": 41,
   "metadata": {
    "colab": {
     "autoexec": {
      "startup": false,
      "wait_interval": 0
     }
    },
    "colab_type": "code",
    "collapsed": true,
    "id": "lqBKT5C-5jEK"
   },
   "outputs": [],
   "source": [
    "# RMSE\n",
    "RMSE_train_LR_mm_2 = np.sqrt(mean_squared_error(trainY, pred_train_LR_mm_2))\n",
    "RMSE_test_LR_mm_2 = np.sqrt(mean_squared_error(testY, pred_test_LR_mm_2))"
   ]
  },
  {
   "cell_type": "code",
   "execution_count": 42,
   "metadata": {
    "colab": {
     "autoexec": {
      "startup": false,
      "wait_interval": 0
     },
     "base_uri": "https://localhost:8080/",
     "height": 68
    },
    "colab_type": "code",
    "executionInfo": {
     "elapsed": 1077,
     "status": "ok",
     "timestamp": 1524393963533,
     "user": {
      "displayName": "N B",
      "photoUrl": "https://lh3.googleusercontent.com/a/default-user=s128",
      "userId": "112072047363083880155"
     },
     "user_tz": -330
    },
    "id": "-5BVc62G5jEU",
    "outputId": "5ab10b94-0480-4c9b-b454-9a230eac0cd7"
   },
   "outputs": [
    {
     "data": {
      "text/plain": [
       "672.8826494193335"
      ]
     },
     "execution_count": 42,
     "metadata": {},
     "output_type": "execute_result"
    },
    {
     "data": {
      "text/plain": [
       "1316.53056859231"
      ]
     },
     "execution_count": 42,
     "metadata": {},
     "output_type": "execute_result"
    }
   ],
   "source": [
    "RMSE_train_LR_mm_2\n",
    "RMSE_test_LR_mm_2"
   ]
  },
  {
   "cell_type": "markdown",
   "metadata": {
    "colab_type": "text",
    "id": "zzg55JB65jEe"
   },
   "source": [
    "#### RMSE is less for Train while it rises for TEST as Degree or Order is more, which clearly means that with Degree 2, model is highly Overfit to train set only. \n",
    "\n",
    "Thus, we shall stick to Order = 1 for StandardScaler as below"
   ]
  },
  {
   "cell_type": "markdown",
   "metadata": {
    "colab_type": "text",
    "id": "4umHHw895jEj"
   },
   "source": [
    "### 6.2) STD-Scaler for LR with Degree = 1"
   ]
  },
  {
   "cell_type": "code",
   "execution_count": 43,
   "metadata": {
    "colab": {
     "autoexec": {
      "startup": false,
      "wait_interval": 0
     }
    },
    "colab_type": "code",
    "collapsed": true,
    "id": "JxMPsmFb5jEm"
   },
   "outputs": [],
   "source": [
    "# Degree 1\n",
    "LR_std_1 = LR.fit(trainX_std, trainY)"
   ]
  },
  {
   "cell_type": "code",
   "execution_count": 44,
   "metadata": {
    "colab": {
     "autoexec": {
      "startup": false,
      "wait_interval": 0
     }
    },
    "colab_type": "code",
    "collapsed": true,
    "id": "o1NHKNLd5jE3"
   },
   "outputs": [],
   "source": [
    "# Predict\n",
    "pred_train_LR_std_1 = LR_std_1.predict(trainX_std)\n",
    "pred_test_LR_std_1 = LR_std_1.predict(testX_std)"
   ]
  },
  {
   "cell_type": "code",
   "execution_count": 45,
   "metadata": {
    "colab": {
     "autoexec": {
      "startup": false,
      "wait_interval": 0
     }
    },
    "colab_type": "code",
    "collapsed": true,
    "id": "gS6ndro_5jFB"
   },
   "outputs": [],
   "source": [
    "# R2 Score\n",
    "score_train_LR_std_1 = r2_score(trainY, pred_train_LR_std_1)\n",
    "score_test_LR_std_1 = r2_score(testY, pred_test_LR_std_1)"
   ]
  },
  {
   "cell_type": "code",
   "execution_count": 46,
   "metadata": {
    "colab": {
     "autoexec": {
      "startup": false,
      "wait_interval": 0
     },
     "base_uri": "https://localhost:8080/",
     "height": 68
    },
    "colab_type": "code",
    "executionInfo": {
     "elapsed": 1173,
     "status": "ok",
     "timestamp": 1524393736617,
     "user": {
      "displayName": "N B",
      "photoUrl": "https://lh3.googleusercontent.com/a/default-user=s128",
      "userId": "112072047363083880155"
     },
     "user_tz": -330
    },
    "id": "nDG7QWPW5jFP",
    "outputId": "8019ebf3-a2aa-44e9-f0a0-2939bbe9e9cc"
   },
   "outputs": [
    {
     "data": {
      "text/plain": [
       "0.9195976267987521"
      ]
     },
     "execution_count": 46,
     "metadata": {},
     "output_type": "execute_result"
    },
    {
     "data": {
      "text/plain": [
       "0.9201866914388086"
      ]
     },
     "execution_count": 46,
     "metadata": {},
     "output_type": "execute_result"
    }
   ],
   "source": [
    "score_train_LR_std_1\n",
    "score_test_LR_std_1"
   ]
  },
  {
   "cell_type": "code",
   "execution_count": 47,
   "metadata": {
    "colab": {
     "autoexec": {
      "startup": false,
      "wait_interval": 0
     }
    },
    "colab_type": "code",
    "collapsed": true,
    "id": "6S4gs02z5jFr"
   },
   "outputs": [],
   "source": [
    "# RMSE\n",
    "RMSE_train_LR_std_1 = np.sqrt(mean_squared_error(trainY, pred_train_LR_std_1))\n",
    "RMSE_test_LR_std_1 = np.sqrt(mean_squared_error(testY, pred_test_LR_std_1))"
   ]
  },
  {
   "cell_type": "code",
   "execution_count": 48,
   "metadata": {
    "colab": {
     "autoexec": {
      "startup": false,
      "wait_interval": 0
     },
     "base_uri": "https://localhost:8080/",
     "height": 68
    },
    "colab_type": "code",
    "executionInfo": {
     "elapsed": 895,
     "status": "ok",
     "timestamp": 1524393750305,
     "user": {
      "displayName": "N B",
      "photoUrl": "https://lh3.googleusercontent.com/a/default-user=s128",
      "userId": "112072047363083880155"
     },
     "user_tz": -330
    },
    "id": "iDDdr4V65jF8",
    "outputId": "63336102-cb6e-44e3-85db-52d42ce02b5f"
   },
   "outputs": [
    {
     "data": {
      "text/plain": [
       "1136.0202087749415"
      ]
     },
     "execution_count": 48,
     "metadata": {},
     "output_type": "execute_result"
    },
    {
     "data": {
      "text/plain": [
       "1115.6905645006907"
      ]
     },
     "execution_count": 48,
     "metadata": {},
     "output_type": "execute_result"
    }
   ],
   "source": [
    "RMSE_train_LR_std_1\n",
    "RMSE_test_LR_std_1"
   ]
  },
  {
   "cell_type": "markdown",
   "metadata": {
    "colab_type": "text",
    "id": "Yqz2Fjm65jGL"
   },
   "source": [
    "#### Both Score and RMSE for MinMax and Std-Scaler is same for Linear-Regression with Order 1"
   ]
  },
  {
   "cell_type": "markdown",
   "metadata": {
    "colab_type": "text",
    "id": "AVdIxYSB5jGN"
   },
   "source": [
    "## 7. Decision Tree"
   ]
  },
  {
   "cell_type": "markdown",
   "metadata": {
    "colab_type": "text",
    "id": "fcQoG86C5jGS"
   },
   "source": [
    "#### Passing Hyperparameters through GridSearchCV to get best results for both MinMax and Std-Scaler"
   ]
  },
  {
   "cell_type": "code",
   "execution_count": 51,
   "metadata": {
    "colab": {
     "autoexec": {
      "startup": false,
      "wait_interval": 0
     },
     "base_uri": "https://localhost:8080/",
     "height": 255
    },
    "colab_type": "code",
    "executionInfo": {
     "elapsed": 106405,
     "status": "ok",
     "timestamp": 1524394089943,
     "user": {
      "displayName": "N B",
      "photoUrl": "https://lh3.googleusercontent.com/a/default-user=s128",
      "userId": "112072047363083880155"
     },
     "user_tz": -330
    },
    "id": "v1ooJj_Q5jGV",
    "outputId": "5dfb36f4-870b-4e66-baf4-fb430fdad36d"
   },
   "outputs": [
    {
     "name": "stdout",
     "output_type": "stream",
     "text": [
      "For MinMax base transformed data:\n",
      "For model DT, best parameters are: {'max_depth': 10, 'max_leaf_nodes': 28}\n",
      "Score on trainX for model DT is: 0.9298\n",
      "Score on testX for model DT is: 0.9302\n",
      "RMSE on trainX for model DT is: 1061.4909\n",
      "RMSE on testX for model DT is: 1043.5595\n",
      "\n",
      "\n",
      "For Standard Scaler base transformed data:\n",
      "For model DT, best parameters are: {'max_depth': 10, 'max_leaf_nodes': 28}\n",
      "Score on trainX for model DT is: 0.9298\n",
      "Score on testX for model DT is: 0.9302\n",
      "RMSE on trainX for model DT is: 1061.4909\n",
      "RMSE on testX for model DT is: 1043.5595\n"
     ]
    }
   ],
   "source": [
    "# Decision Tree\n",
    "for W in np.arange(0,2,1):\n",
    "    clf_name = \"DT\"\n",
    "    param = {\"max_depth\":range(3,20,1), \"max_leaf_nodes\": range(10,30,2)}\n",
    "    clf = DecisionTreeRegressor(random_state=42, )\n",
    "    \n",
    "    if W == 0: # For Simple train_X, test_X\n",
    "        fun_GS(clf_name, clf, param, W)\n",
    "    \n",
    "    elif W == 1: # For MinMaxScaler train_X, test_X\n",
    "        fun_GS(clf_name, clf, param, W)"
   ]
  },
  {
   "cell_type": "markdown",
   "metadata": {},
   "source": [
    "**Basis both, Minmax and Standard Scaler, we are getting same results for Decision Tree. Also, Hyperparameters are same for both.**\n",
    "\n",
    "RMSE for this is less than Linear Regression model for both Train and Test."
   ]
  },
  {
   "cell_type": "markdown",
   "metadata": {
    "colab_type": "text",
    "id": "LzX9jKXB-ERK"
   },
   "source": [
    "## 8. Random Forest"
   ]
  },
  {
   "cell_type": "code",
   "execution_count": 55,
   "metadata": {
    "colab": {
     "autoexec": {
      "startup": false,
      "wait_interval": 0
     },
     "base_uri": "https://localhost:8080/",
     "height": 255
    },
    "colab_type": "code",
    "executionInfo": {
     "elapsed": 263472,
     "status": "ok",
     "timestamp": 1524394409244,
     "user": {
      "displayName": "N B",
      "photoUrl": "https://lh3.googleusercontent.com/a/default-user=s128",
      "userId": "112072047363083880155"
     },
     "user_tz": -330
    },
    "id": "SES7GBOT5jJb",
    "outputId": "4c049907-a816-430b-eacc-4357ad2b98c3"
   },
   "outputs": [
    {
     "name": "stdout",
     "output_type": "stream",
     "text": [
      "For MinMax base transformed data:\n",
      "For model RF, best parameters are: {'max_depth': 7, 'max_leaf_nodes': 18, 'n_estimators': 9}\n",
      "Score on trainX for model RF is: 0.9234\n",
      "Score on testX for model RF is: 0.9256\n",
      "RMSE on trainX for model RF is: 1108.5704\n",
      "RMSE on testX for model RF is: 1077.3650\n",
      "\n",
      "\n",
      "For Standard Scaler base transformed data:\n",
      "For model RF, best parameters are: {'max_depth': 7, 'max_leaf_nodes': 18, 'n_estimators': 9}\n",
      "Score on trainX for model RF is: 0.9234\n",
      "Score on testX for model RF is: 0.9256\n",
      "RMSE on trainX for model RF is: 1108.5704\n",
      "RMSE on testX for model RF is: 1077.3650\n"
     ]
    }
   ],
   "source": [
    "# Random Forest\n",
    "for W in np.arange(0,2,1):\n",
    "    clf_name = \"RF\"\n",
    "    param = {\"n_estimators\": range(5,10,1),\n",
    "             \"max_depth\":range(3,10,2),\"max_leaf_nodes\":range(10,20,2)}\n",
    "    clf = RandomForestRegressor(random_state=42)\n",
    "    \n",
    "    if W == 0: # For Simple train_X, test_X\n",
    "        fun_GS(clf_name, clf, param, W)\n",
    "    \n",
    "    elif W == 1: # For MinMaxScaler train_X, test_X\n",
    "        fun_GS(clf_name, clf, param, W)"
   ]
  },
  {
   "cell_type": "markdown",
   "metadata": {},
   "source": [
    "** Even in this case, same results are obtained with Minmax and Standard Scaler. Hyperparameters are also same**\n",
    "\n",
    "RMSE for this is less than Linear Regression but more than Decision Tree."
   ]
  },
  {
   "cell_type": "markdown",
   "metadata": {},
   "source": [
    "## 9. Conclusion"
   ]
  },
  {
   "cell_type": "markdown",
   "metadata": {
    "colab_type": "text",
    "id": "Gk7hIcaX_vSv"
   },
   "source": [
    "Basis all 3 Classifiers i.e. Linear Regression (with Degree 1 and 2), DecisionTree and RandomForest; Consdering, Score and RMSE for TRAIN and TEST datasets, **DecisionTree looks best Model here,** however, we can involve few other methods and could work on Feature Engineering to get our model be better with better features.\n",
    "\n",
    "Also, since we have applied HyperParameters via GridSearch, which means best Parameters are selected and Overfit is avoided\n",
    "\n",
    "As far as MinMax or StandardScaler Transformed Vector is concerned, both gives same result."
   ]
  }
 ],
 "metadata": {
  "accelerator": "GPU",
  "colab": {
   "default_view": {},
   "name": "Diamond+Price+Prediction.ipynb",
   "provenance": [],
   "version": "0.3.2",
   "views": {}
  },
  "kernelspec": {
   "display_name": "Python 3",
   "language": "python",
   "name": "python3"
  },
  "language_info": {
   "codemirror_mode": {
    "name": "ipython",
    "version": 3
   },
   "file_extension": ".py",
   "mimetype": "text/x-python",
   "name": "python",
   "nbconvert_exporter": "python",
   "pygments_lexer": "ipython3",
   "version": "3.6.1"
  }
 },
 "nbformat": 4,
 "nbformat_minor": 1
}
